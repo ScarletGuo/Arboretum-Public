{
 "cells": [
  {
   "cell_type": "code",
   "execution_count": 1,
   "metadata": {},
   "outputs": [],
   "source": [
    "from process_helper import *\n",
    "import numpy as np"
   ]
  },
  {
   "cell_type": "code",
   "execution_count": 2,
   "metadata": {},
   "outputs": [
    {
     "data": {
      "image/png": "[encoded data removed]",
      "text/plain": [
       "<Figure size 432x288 with 1 Axes>"
      ]
     },
     "metadata": {
      "needs_background": "light"
     },
     "output_type": "display_data"
    },
    {
     "data": {
      "image/png": "[encoded data removed]",
      "text/plain": [
       "<Figure size 288x144 with 1 Axes>"
      ]
     },
     "metadata": {
      "needs_background": "light"
     },
     "output_type": "display_data"
    },
    {
     "data": {
      "image/png": "[encoded data removed]",
      "text/plain": [
       "<Figure size 288x144 with 1 Axes>"
      ]
     },
     "metadata": {
      "needs_background": "light"
     },
     "output_type": "display_data"
    },
    {
     "data": {
      "text/plain": [
       "<Figure size 288x144 with 0 Axes>"
      ]
     },
     "metadata": {},
     "output_type": "display_data"
    }
   ],
   "source": [
    "_, grad_colors = display_colors()\n",
    "_, bar_colors = select_color_idx(4)\n",
    "_, line_colors = select_color_idx(4)"
   ]
  },
  {
   "cell_type": "code",
   "execution_count": 3,
   "metadata": {},
   "outputs": [],
   "source": [
    "plt.rcParams.update({'font.size': 15})\n",
    "import matplotlib as mpl\n",
    "mpl.rcParams['hatch.linewidth'] = 0.5"
   ]
  },
  {
   "cell_type": "code",
   "execution_count": 4,
   "metadata": {},
   "outputs": [],
   "source": [
    "datadir = \"../output/\""
   ]
  },
  {
   "cell_type": "markdown",
   "metadata": {},
   "source": [
    "## Experiment 1: limit = 16k"
   ]
  },
  {
   "cell_type": "code",
   "execution_count": 10,
   "metadata": {},
   "outputs": [],
   "source": [
    "exp = \"exp_scan_10g_fanout250_rerun\""
   ]
  },
  {
   "cell_type": "code",
   "execution_count": 11,
   "metadata": {},
   "outputs": [],
   "source": [
    "data = [json.loads(line) for line in open(datadir + exp + \".txt\")]\n",
    "df = pd.DataFrame().from_records(data)"
   ]
  },
  {
   "cell_type": "code",
   "execution_count": 12,
   "metadata": {},
   "outputs": [
    {
     "data": {
      "text/plain": [
       "Index(['abort_cnt_', 'accesses_', 'avg_commit_queue_sz_',\n",
       "       'avg_log_flush_interval_ (us)', 'avg_log_group_sz_',\n",
       "       'avg_log_latency_ (us)', 'avg_per_worker_runtime_sec',\n",
       "       'avg_sum_commit_latency (us)', 'avg_sum_log_flush_latency (us)',\n",
       "       'bufferd_idx_pgs_', 'cc_time_ms', 'commit_cnt_',\n",
       "       'commit_latency_perc0_us', 'commit_latency_perc50_us',\n",
       "       'commit_latency_perc99_us', 'commit_queue_sz_', 'g_buf_entry_sz',\n",
       "       'g_buf_type', 'g_check_loaded', 'g_commit_group_sz', 'g_commit_pool_sz',\n",
       "       'g_commit_queue_limit', 'g_cpu_freq', 'g_early_lock_release',\n",
       "       'g_enable_group_commit', 'g_enable_logging',\n",
       "       'g_enable_phantom_protection', 'g_force_write', 'g_idx_btree_fanout',\n",
       "       'g_idx_btree_split_ratio', 'g_index_type', 'g_load_range',\n",
       "       'g_load_to_remote_only', 'g_log_freq_us', 'g_node_id',\n",
       "       'g_num_restore_thds', 'g_num_worker_threads', 'g_pagebuf_num_slots',\n",
       "       'g_partition_sz', 'g_remote_req_retries', 'g_restore_from_remote',\n",
       "       'g_save_output', 'g_total_buf_sz', 'g_warmup_finished', 'hit_rate_',\n",
       "       'idx_accesses_', 'idx_misses_', 'idx_time_ms', 'insert_txn_perc_',\n",
       "       'loading_endkey', 'loading_startkey', 'log_flush_interval_ms',\n",
       "       'log_flush_latency_perc0_us', 'log_flush_latency_perc50_us',\n",
       "       'log_flush_latency_perc99_us', 'log_group_sz_', 'log_latency_ms',\n",
       "       'misses_', 'num_commit_queue_samples_', 'num_flushes_', 'num_logs_',\n",
       "       'num_req_per_query_', 'num_rows_', 'num_workers_', 'read_perc_',\n",
       "       'remote_io_time_ms', 'remote_rd_time_ms', 'remote_rds_',\n",
       "       'remote_req_sz_perc0', 'remote_req_sz_perc100', 'remote_req_sz_perc25',\n",
       "       'remote_req_sz_perc50', 'remote_req_sz_perc75', 'remote_rw_time_ms',\n",
       "       'remote_rws_', 'remote_wr_time_ms', 'remote_wrs_', 'runtime_',\n",
       "       'rw_txn_perc_', 'thd_runtime_ms', 'throughput_txn_per_sec',\n",
       "       'warmup_time_', 'zipf_theta_'],\n",
       "      dtype='object')"
      ]
     },
     "execution_count": 12,
     "metadata": {},
     "output_type": "execute_result"
    }
   ],
   "source": [
    "df.columns"
   ]
  },
  {
   "cell_type": "code",
   "execution_count": 48,
   "metadata": {},
   "outputs": [
    {
     "data": {
      "text/html": [
       "<div>\n",
       "<style scoped>\n",
       "    .dataframe tbody tr th:only-of-type {\n",
       "        vertical-align: middle;\n",
       "    }\n",
       "\n",
       "    .dataframe tbody tr th {\n",
       "        vertical-align: top;\n",
       "    }\n",
       "\n",
       "    .dataframe thead th {\n",
       "        text-align: right;\n",
       "    }\n",
       "</style>\n",
       "<table border=\"1\" class=\"dataframe\">\n",
       "  <thead>\n",
       "    <tr style=\"text-align: right;\">\n",
       "      <th></th>\n",
       "      <th>throughput_txn_per_sec</th>\n",
       "      <th>abort_cnt_</th>\n",
       "      <th>hit_rate_</th>\n",
       "      <th>misses_</th>\n",
       "      <th>avg_log_group_sz_</th>\n",
       "      <th>avg_sum_log_flush_latency (us)</th>\n",
       "      <th>avg_log_latency_ (us)</th>\n",
       "      <th>avg_log_flush_interval_ (us)</th>\n",
       "      <th>num_flushes_</th>\n",
       "      <th>remote_rds_</th>\n",
       "      <th>commit_cnt_</th>\n",
       "      <th>remote_rd_time_ms</th>\n",
       "      <th>accesses_</th>\n",
       "      <th>remote_req_sz_perc0</th>\n",
       "      <th>remote_req_sz_perc100</th>\n",
       "      <th>remote_req_sz_perc25</th>\n",
       "      <th>remote_req_sz_perc50</th>\n",
       "      <th>remote_req_sz_perc75</th>\n",
       "    </tr>\n",
       "    <tr>\n",
       "      <th>g_total_buf_sz</th>\n",
       "      <th></th>\n",
       "      <th></th>\n",
       "      <th></th>\n",
       "      <th></th>\n",
       "      <th></th>\n",
       "      <th></th>\n",
       "      <th></th>\n",
       "      <th></th>\n",
       "      <th></th>\n",
       "      <th></th>\n",
       "      <th></th>\n",
       "      <th></th>\n",
       "      <th></th>\n",
       "      <th></th>\n",
       "      <th></th>\n",
       "      <th></th>\n",
       "      <th></th>\n",
       "      <th></th>\n",
       "    </tr>\n",
       "  </thead>\n",
       "  <tbody>\n",
       "    <tr>\n",
       "      <th>3000000000</th>\n",
       "      <td>529.349</td>\n",
       "      <td>0</td>\n",
       "      <td>0.840889</td>\n",
       "      <td>522388</td>\n",
       "      <td>12.2050</td>\n",
       "      <td>10764.3</td>\n",
       "      <td>3409.22</td>\n",
       "      <td>11515.8</td>\n",
       "      <td>5211</td>\n",
       "      <td>10633</td>\n",
       "      <td>63599</td>\n",
       "      <td>959783</td>\n",
       "      <td>3283162</td>\n",
       "      <td>0.0</td>\n",
       "      <td>101.0</td>\n",
       "      <td>24.0</td>\n",
       "      <td>48.0</td>\n",
       "      <td>73.0</td>\n",
       "    </tr>\n",
       "    <tr>\n",
       "      <th>6000000000</th>\n",
       "      <td>1298.640</td>\n",
       "      <td>0</td>\n",
       "      <td>0.924492</td>\n",
       "      <td>606726</td>\n",
       "      <td>35.2569</td>\n",
       "      <td>13389.0</td>\n",
       "      <td>2049.51</td>\n",
       "      <td>13560.4</td>\n",
       "      <td>4426</td>\n",
       "      <td>12839</td>\n",
       "      <td>156037</td>\n",
       "      <td>941976</td>\n",
       "      <td>8035264</td>\n",
       "      <td>0.0</td>\n",
       "      <td>101.0</td>\n",
       "      <td>22.0</td>\n",
       "      <td>45.0</td>\n",
       "      <td>72.0</td>\n",
       "    </tr>\n",
       "    <tr>\n",
       "      <th>9000000000</th>\n",
       "      <td>3329.620</td>\n",
       "      <td>0</td>\n",
       "      <td>0.975527</td>\n",
       "      <td>506345</td>\n",
       "      <td>437.6500</td>\n",
       "      <td>65166.8</td>\n",
       "      <td>2149.38</td>\n",
       "      <td>65391.9</td>\n",
       "      <td>918</td>\n",
       "      <td>11710</td>\n",
       "      <td>401001</td>\n",
       "      <td>637235</td>\n",
       "      <td>20690011</td>\n",
       "      <td>0.0</td>\n",
       "      <td>101.0</td>\n",
       "      <td>19.0</td>\n",
       "      <td>40.0</td>\n",
       "      <td>66.0</td>\n",
       "    </tr>\n",
       "  </tbody>\n",
       "</table>\n",
       "</div>"
      ],
      "text/plain": [
       "                throughput_txn_per_sec  abort_cnt_  hit_rate_  misses_  \\\n",
       "g_total_buf_sz                                                           \n",
       "3000000000                     529.349           0   0.840889   522388   \n",
       "6000000000                    1298.640           0   0.924492   606726   \n",
       "9000000000                    3329.620           0   0.975527   506345   \n",
       "\n",
       "                avg_log_group_sz_  avg_sum_log_flush_latency (us)  \\\n",
       "g_total_buf_sz                                                      \n",
       "3000000000                12.2050                         10764.3   \n",
       "6000000000                35.2569                         13389.0   \n",
       "9000000000               437.6500                         65166.8   \n",
       "\n",
       "                avg_log_latency_ (us)  avg_log_flush_interval_ (us)  \\\n",
       "g_total_buf_sz                                                        \n",
       "3000000000                    3409.22                       11515.8   \n",
       "6000000000                    2049.51                       13560.4   \n",
       "9000000000                    2149.38                       65391.9   \n",
       "\n",
       "                num_flushes_  remote_rds_  commit_cnt_  remote_rd_time_ms  \\\n",
       "g_total_buf_sz                                                              \n",
       "3000000000              5211        10633        63599             959783   \n",
       "6000000000              4426        12839       156037             941976   \n",
       "9000000000               918        11710       401001             637235   \n",
       "\n",
       "                accesses_  remote_req_sz_perc0  remote_req_sz_perc100  \\\n",
       "g_total_buf_sz                                                          \n",
       "3000000000        3283162                  0.0                  101.0   \n",
       "6000000000        8035264                  0.0                  101.0   \n",
       "9000000000       20690011                  0.0                  101.0   \n",
       "\n",
       "                remote_req_sz_perc25  remote_req_sz_perc50  \\\n",
       "g_total_buf_sz                                               \n",
       "3000000000                      24.0                  48.0   \n",
       "6000000000                      22.0                  45.0   \n",
       "9000000000                      19.0                  40.0   \n",
       "\n",
       "                remote_req_sz_perc75  \n",
       "g_total_buf_sz                        \n",
       "3000000000                      73.0  \n",
       "6000000000                      72.0  \n",
       "9000000000                      66.0  "
      ]
     },
     "execution_count": 48,
     "metadata": {},
     "output_type": "execute_result"
    }
   ],
   "source": [
    "# create pivot table\n",
    "df0 = apply_mask(df, [\n",
    "    [\"g_buf_type\", [\"eq\", \"OBJBUF\"]],\n",
    "    [\"g_enable_phantom_protection\", [\"eq\", \"True\"]],\n",
    "    [\"g_total_buf_sz\", [\"ne\", 12000000000]]\n",
    "])\n",
    "pivot0 = df0.groupby([\n",
    "    \"g_total_buf_sz\",\n",
    "])[\n",
    "    \"throughput_txn_per_sec\",\"abort_cnt_\",\"hit_rate_\",\"misses_\", \n",
    "    \"avg_log_group_sz_\",\"avg_sum_log_flush_latency (us)\",\n",
    "    \"avg_log_latency_ (us)\", \"avg_log_flush_interval_ (us)\", \n",
    "    \"num_flushes_\", \"remote_rds_\", \"commit_cnt_\", \"remote_rd_time_ms\",\n",
    "    \"accesses_\",'remote_req_sz_perc0', 'remote_req_sz_perc100', 'remote_req_sz_perc25',\n",
    "       'remote_req_sz_perc50', 'remote_req_sz_perc75'\n",
    "    ].max()\n",
    "pivot0"
   ]
  },
  {
   "cell_type": "code",
   "execution_count": 14,
   "metadata": {},
   "outputs": [
    {
     "data": {
      "text/html": [
       "<div>\n",
       "<style scoped>\n",
       "    .dataframe tbody tr th:only-of-type {\n",
       "        vertical-align: middle;\n",
       "    }\n",
       "\n",
       "    .dataframe tbody tr th {\n",
       "        vertical-align: top;\n",
       "    }\n",
       "\n",
       "    .dataframe thead th {\n",
       "        text-align: right;\n",
       "    }\n",
       "</style>\n",
       "<table border=\"1\" class=\"dataframe\">\n",
       "  <thead>\n",
       "    <tr style=\"text-align: right;\">\n",
       "      <th></th>\n",
       "      <th>throughput_txn_per_sec</th>\n",
       "      <th>abort_cnt_</th>\n",
       "      <th>hit_rate_</th>\n",
       "      <th>misses_</th>\n",
       "      <th>avg_log_group_sz_</th>\n",
       "      <th>avg_sum_log_flush_latency (us)</th>\n",
       "      <th>avg_log_latency_ (us)</th>\n",
       "      <th>avg_log_flush_interval_ (us)</th>\n",
       "      <th>num_flushes_</th>\n",
       "      <th>g_buf_type</th>\n",
       "      <th>remote_rds_</th>\n",
       "      <th>commit_cnt_</th>\n",
       "      <th>remote_rd_time_ms</th>\n",
       "      <th>idx_misses_</th>\n",
       "      <th>idx_accesses_</th>\n",
       "      <th>accesses_</th>\n",
       "    </tr>\n",
       "    <tr>\n",
       "      <th>g_total_buf_sz</th>\n",
       "      <th></th>\n",
       "      <th></th>\n",
       "      <th></th>\n",
       "      <th></th>\n",
       "      <th></th>\n",
       "      <th></th>\n",
       "      <th></th>\n",
       "      <th></th>\n",
       "      <th></th>\n",
       "      <th></th>\n",
       "      <th></th>\n",
       "      <th></th>\n",
       "      <th></th>\n",
       "      <th></th>\n",
       "      <th></th>\n",
       "      <th></th>\n",
       "    </tr>\n",
       "  </thead>\n",
       "  <tbody>\n",
       "    <tr>\n",
       "      <th>3000000000</th>\n",
       "      <td>600.825</td>\n",
       "      <td>0</td>\n",
       "      <td>0.955982</td>\n",
       "      <td>180045</td>\n",
       "      <td>13.7095</td>\n",
       "      <td>11232.5</td>\n",
       "      <td>5693.88</td>\n",
       "      <td>11263.0</td>\n",
       "      <td>5328</td>\n",
       "      <td>PGBUF</td>\n",
       "      <td>180045</td>\n",
       "      <td>73025</td>\n",
       "      <td>959775</td>\n",
       "      <td>3734</td>\n",
       "      <td>321971</td>\n",
       "      <td>4090230</td>\n",
       "    </tr>\n",
       "    <tr>\n",
       "      <th>6000000000</th>\n",
       "      <td>926.641</td>\n",
       "      <td>0</td>\n",
       "      <td>0.972959</td>\n",
       "      <td>174452</td>\n",
       "      <td>24.3160</td>\n",
       "      <td>12605.1</td>\n",
       "      <td>4004.45</td>\n",
       "      <td>12738.2</td>\n",
       "      <td>4775</td>\n",
       "      <td>PGBUF</td>\n",
       "      <td>174452</td>\n",
       "      <td>116073</td>\n",
       "      <td>987787</td>\n",
       "      <td>6679</td>\n",
       "      <td>507932</td>\n",
       "      <td>6451329</td>\n",
       "    </tr>\n",
       "    <tr>\n",
       "      <th>9000000000</th>\n",
       "      <td>1585.180</td>\n",
       "      <td>0</td>\n",
       "      <td>0.984595</td>\n",
       "      <td>168764</td>\n",
       "      <td>54.0058</td>\n",
       "      <td>16462.3</td>\n",
       "      <td>2959.71</td>\n",
       "      <td>16532.6</td>\n",
       "      <td>3630</td>\n",
       "      <td>PGBUF</td>\n",
       "      <td>168764</td>\n",
       "      <td>196007</td>\n",
       "      <td>937802</td>\n",
       "      <td>8164</td>\n",
       "      <td>863646</td>\n",
       "      <td>10955412</td>\n",
       "    </tr>\n",
       "  </tbody>\n",
       "</table>\n",
       "</div>"
      ],
      "text/plain": [
       "                throughput_txn_per_sec  abort_cnt_  hit_rate_  misses_  \\\n",
       "g_total_buf_sz                                                           \n",
       "3000000000                     600.825           0   0.955982   180045   \n",
       "6000000000                     926.641           0   0.972959   174452   \n",
       "9000000000                    1585.180           0   0.984595   168764   \n",
       "\n",
       "                avg_log_group_sz_  avg_sum_log_flush_latency (us)  \\\n",
       "g_total_buf_sz                                                      \n",
       "3000000000                13.7095                         11232.5   \n",
       "6000000000                24.3160                         12605.1   \n",
       "9000000000                54.0058                         16462.3   \n",
       "\n",
       "                avg_log_latency_ (us)  avg_log_flush_interval_ (us)  \\\n",
       "g_total_buf_sz                                                        \n",
       "3000000000                    5693.88                       11263.0   \n",
       "6000000000                    4004.45                       12738.2   \n",
       "9000000000                    2959.71                       16532.6   \n",
       "\n",
       "                num_flushes_ g_buf_type  remote_rds_  commit_cnt_  \\\n",
       "g_total_buf_sz                                                      \n",
       "3000000000              5328      PGBUF       180045        73025   \n",
       "6000000000              4775      PGBUF       174452       116073   \n",
       "9000000000              3630      PGBUF       168764       196007   \n",
       "\n",
       "                remote_rd_time_ms  idx_misses_  idx_accesses_  accesses_  \n",
       "g_total_buf_sz                                                            \n",
       "3000000000                 959775         3734         321971    4090230  \n",
       "6000000000                 987787         6679         507932    6451329  \n",
       "9000000000                 937802         8164         863646   10955412  "
      ]
     },
     "execution_count": 14,
     "metadata": {},
     "output_type": "execute_result"
    }
   ],
   "source": [
    "# create pivot table\n",
    "df2 = apply_mask(df, [\n",
    "    [\"g_buf_type\", [\"eq\", \"PGBUF\"]],\n",
    "    [\"g_enable_phantom_protection\", [\"eq\", \"True\"]],\n",
    "    [\"g_total_buf_sz\", [\"ne\", 12000000000]]\n",
    "])\n",
    "pivot2 = df2.groupby([\n",
    "    \"g_total_buf_sz\",\n",
    "])[\n",
    "    \"throughput_txn_per_sec\",\"abort_cnt_\",\"hit_rate_\",\"misses_\", \n",
    "    \"avg_log_group_sz_\",\"avg_sum_log_flush_latency (us)\",\n",
    "    \"avg_log_latency_ (us)\", \"avg_log_flush_interval_ (us)\", \n",
    "    \"num_flushes_\", \"g_buf_type\", \"remote_rds_\", \"commit_cnt_\", \"remote_rd_time_ms\",\n",
    "    \"idx_misses_\", \"idx_accesses_\", \"accesses_\"\n",
    "    ].max()\n",
    "pivot2"
   ]
  },
  {
   "cell_type": "code",
   "execution_count": 15,
   "metadata": {},
   "outputs": [
    {
     "data": {
      "text/html": [
       "<div>\n",
       "<style scoped>\n",
       "    .dataframe tbody tr th:only-of-type {\n",
       "        vertical-align: middle;\n",
       "    }\n",
       "\n",
       "    .dataframe tbody tr th {\n",
       "        vertical-align: top;\n",
       "    }\n",
       "\n",
       "    .dataframe thead th {\n",
       "        text-align: right;\n",
       "    }\n",
       "</style>\n",
       "<table border=\"1\" class=\"dataframe\">\n",
       "  <thead>\n",
       "    <tr style=\"text-align: right;\">\n",
       "      <th></th>\n",
       "      <th>throughput_txn_per_sec</th>\n",
       "      <th>abort_cnt_</th>\n",
       "      <th>hit_rate_</th>\n",
       "      <th>misses_</th>\n",
       "      <th>avg_log_group_sz_</th>\n",
       "      <th>avg_sum_log_flush_latency (us)</th>\n",
       "      <th>avg_log_latency_ (us)</th>\n",
       "      <th>avg_log_flush_interval_ (us)</th>\n",
       "      <th>commit_cnt_</th>\n",
       "      <th>num_flushes_</th>\n",
       "      <th>g_buf_type</th>\n",
       "      <th>remote_rds_</th>\n",
       "      <th>remote_rd_time_ms</th>\n",
       "    </tr>\n",
       "    <tr>\n",
       "      <th>g_total_buf_sz</th>\n",
       "      <th></th>\n",
       "      <th></th>\n",
       "      <th></th>\n",
       "      <th></th>\n",
       "      <th></th>\n",
       "      <th></th>\n",
       "      <th></th>\n",
       "      <th></th>\n",
       "      <th></th>\n",
       "      <th></th>\n",
       "      <th></th>\n",
       "      <th></th>\n",
       "      <th></th>\n",
       "    </tr>\n",
       "  </thead>\n",
       "  <tbody>\n",
       "    <tr>\n",
       "      <th>3000000000</th>\n",
       "      <td>82.192</td>\n",
       "      <td>0</td>\n",
       "      <td>0.0</td>\n",
       "      <td>594265</td>\n",
       "      <td>1.53997</td>\n",
       "      <td>8001.72</td>\n",
       "      <td>12418.8</td>\n",
       "      <td>9352.08</td>\n",
       "      <td>9880</td>\n",
       "      <td>6417</td>\n",
       "      <td>NOBUF</td>\n",
       "      <td>9898</td>\n",
       "      <td>961367</td>\n",
       "    </tr>\n",
       "  </tbody>\n",
       "</table>\n",
       "</div>"
      ],
      "text/plain": [
       "                throughput_txn_per_sec  abort_cnt_  hit_rate_  misses_  \\\n",
       "g_total_buf_sz                                                           \n",
       "3000000000                      82.192           0        0.0   594265   \n",
       "\n",
       "                avg_log_group_sz_  avg_sum_log_flush_latency (us)  \\\n",
       "g_total_buf_sz                                                      \n",
       "3000000000                1.53997                         8001.72   \n",
       "\n",
       "                avg_log_latency_ (us)  avg_log_flush_interval_ (us)  \\\n",
       "g_total_buf_sz                                                        \n",
       "3000000000                    12418.8                       9352.08   \n",
       "\n",
       "                commit_cnt_  num_flushes_ g_buf_type  remote_rds_  \\\n",
       "g_total_buf_sz                                                      \n",
       "3000000000             9880          6417      NOBUF         9898   \n",
       "\n",
       "                remote_rd_time_ms  \n",
       "g_total_buf_sz                     \n",
       "3000000000                 961367  "
      ]
     },
     "execution_count": 15,
     "metadata": {},
     "output_type": "execute_result"
    }
   ],
   "source": [
    "# create pivot table\n",
    "df3 = apply_mask(df, [\n",
    "    [\"g_buf_type\", [\"eq\", \"NOBUF\"]]\n",
    "])\n",
    "pivot3 = df3.groupby([\n",
    "    \"g_total_buf_sz\", \n",
    "])[\n",
    "    \"throughput_txn_per_sec\",\"abort_cnt_\",\"hit_rate_\",\"misses_\", \n",
    "    \"avg_log_group_sz_\",\"avg_sum_log_flush_latency (us)\",\n",
    "    \"avg_log_latency_ (us)\", \"avg_log_flush_interval_ (us)\", \"commit_cnt_\",\n",
    "    \"num_flushes_\", \"g_buf_type\", \"remote_rds_\", \"remote_rd_time_ms\"\n",
    "    ].max()\n",
    "pivot3"
   ]
  },
  {
   "cell_type": "code",
   "execution_count": 16,
   "metadata": {},
   "outputs": [
    {
     "name": "stdout",
     "output_type": "stream",
     "text": [
      "[0.3, 0.6, 1.3]\n"
     ]
    },
    {
     "data": {
      "image/png": "[encoded data removed]",
      "text/plain": [
       "<Figure size 324x216 with 1 Axes>"
      ]
     },
     "metadata": {
      "needs_background": "light"
     },
     "output_type": "display_data"
    }
   ],
   "source": [
    "workload_ratio = [round(sz / 10240000000.0 * 10) / 10.0 for sz in pivot0.index]\n",
    "workload_ratio[-1] = 1.3\n",
    "print(workload_ratio)\n",
    "fig, ax = plt.subplots(1, 1)\n",
    "ax.plot(workload_ratio, \n",
    "        pivot0[\"throughput_txn_per_sec\"],\n",
    "        color=line_colors[\"BLUE\"],\n",
    "        marker=\"^\", label=\"Bonsai\")\n",
    "ax.plot(workload_ratio, \n",
    "        pivot2[\"throughput_txn_per_sec\"],\n",
    "        color=line_colors[\"GREEN\"],\n",
    "        marker=\".\", label=\"Page-Index\")\n",
    "ax.plot(workload_ratio, \n",
    "        [pivot3[\"throughput_txn_per_sec\"].values] * pivot0.shape[0],\n",
    "        color=line_colors[\"ORANGE\"],\n",
    "        marker=\".\", label=\"Remote-Index\")\n",
    "# ax.set_title(plot_names[i])\n",
    "plt.legend(frameon=False)\n",
    "ax.set_ylim(ymin=0)\n",
    "ax.set_xlim(xmin=0)\n",
    "ax.set_xticks(workload_ratio)\n",
    "ax.set_xlabel(\"Buffer Size / Data Size\")\n",
    "ax.set_ylabel(\"Throughput (txn/sec)\")\n",
    "fig.set_size_inches(4.5, 3)\n",
    "plt.grid(axis = 'y', linestyle = '--', linewidth = 0.25)"
   ]
  },
  {
   "cell_type": "code",
   "execution_count": 17,
   "metadata": {},
   "outputs": [
    {
     "data": {
      "text/plain": [
       "<matplotlib.legend.Legend at 0x7fdc879e2080>"
      ]
     },
     "execution_count": 17,
     "metadata": {},
     "output_type": "execute_result"
    },
    {
     "data": {
      "image/png": "[encoded data removed]",
      "text/plain": [
       "<Figure size 324x216 with 1 Axes>"
      ]
     },
     "metadata": {
      "needs_background": "light"
     },
     "output_type": "display_data"
    }
   ],
   "source": [
    "fig, ax = plt.subplots(1, 1)\n",
    "xvals = np.arange(len(workload_ratio))\n",
    "width = (1 - 0.2) / 3\n",
    "ax.bar(xvals, pivot0[\"remote_rd_time_ms\"] / pivot0[\"commit_cnt_\"],\n",
    "       width=width, edgecolor=\"black\", \n",
    "       facecolor=bar_colors[\"BLUE\"], label=\"Bonsai\")\n",
    "ax.bar(xvals + width, pivot2[\"remote_rd_time_ms\"] / pivot2[\"commit_cnt_\"],\n",
    "      width=width, edgecolor=\"black\", hatch=\"//\",\n",
    "       facecolor=bar_colors[\"GREEN\"], label=\"Page-Index\")\n",
    "ax.bar(xvals + width*2, pivot3[\"remote_rd_time_ms\"] / pivot3[\"commit_cnt_\"],\n",
    "      width=width, edgecolor=\"black\", hatch=\"\\\\\\\\\",\n",
    "       facecolor=bar_colors[\"ORANGE\"], label=\"Remote-Index\")\n",
    "for x in xvals:\n",
    "    y = pivot3[\"remote_rd_time_ms\"] / pivot3[\"commit_cnt_\"]\n",
    "    ax.text(x + 0.2, 21, \"%.2f\" % y, color=line_colors[\"ORANGE\"])\n",
    "ax.set_ylim(0, 20)\n",
    "plt.xticks(xvals + width, workload_ratio)\n",
    "ax.set_xlabel(\"Buffer Size / Data Size\")\n",
    "ax.set_ylabel(\"I/O Time per Txn (ms)\")\n",
    "fig.set_size_inches(4.5, 3)\n",
    "plt.legend()"
   ]
  },
  {
   "cell_type": "code",
   "execution_count": 47,
   "metadata": {},
   "outputs": [
    {
     "data": {
      "text/plain": [
       "<matplotlib.legend.Legend at 0x7fdc88c67c18>"
      ]
     },
     "execution_count": 47,
     "metadata": {},
     "output_type": "execute_result"
    },
    {
     "data": {
      "image/png": "[encoded data removed]",
      "text/plain": [
       "<Figure size 324x216 with 1 Axes>"
      ]
     },
     "metadata": {
      "needs_background": "light"
     },
     "output_type": "display_data"
    }
   ],
   "source": [
    "fig, ax = plt.subplots(1, 1)\n",
    "xvals = np.arange(len(workload_ratio))\n",
    "width = (1 - 0.2) / 3\n",
    "ax.bar(xvals, pivot0[\"remote_rds_\"] / pivot0[\"commit_cnt_\"] * (pivot0[\"misses_\"] / pivot0[\"remote_rds_\"]),\n",
    "       width=width, edgecolor=\"black\", \n",
    "       facecolor=bar_colors[\"BLUE\"], label=\"Bonsai\")\n",
    "ax.bar(xvals + width, pivot2[\"remote_rds_\"] / pivot2[\"commit_cnt_\"] * (pivot2[\"misses_\"] / pivot2[\"remote_rds_\"]) * 7,\n",
    "      width=width, edgecolor=\"black\", hatch=\"//\",\n",
    "       facecolor=bar_colors[\"GREEN\"], label=\"Page-Index\")\n",
    "val3 = pivot3[\"remote_rds_\"] / pivot3[\"commit_cnt_\"] * (pivot3[\"misses_\"] / pivot3[\"remote_rds_\"])\n",
    "ax.bar(xvals + width*2, val3,\n",
    "      width=width, edgecolor=\"black\", hatch=\"\\\\\\\\\",\n",
    "       facecolor=bar_colors[\"ORANGE\"], label=\"Remote-Index\")\n",
    "for x in xvals:\n",
    "    y = val3\n",
    "    ax.text(x + 0.2, 26, \"%.2f\" % y, color=line_colors[\"ORANGE\"])\n",
    "ax.set_ylim(0, 25)\n",
    "plt.xticks(xvals + width, workload_ratio)\n",
    "ax.set_xlabel(\"Buffer Size / Data Size\")\n",
    "ax.set_ylabel(\"Avg # of Records \\nFetched per Txn\")\n",
    "fig.set_size_inches(4.5, 3)\n",
    "plt.legend()"
   ]
  },
  {
   "cell_type": "code",
   "execution_count": 18,
   "metadata": {},
   "outputs": [
    {
     "data": {
      "text/plain": [
       "g_total_buf_sz\n",
       "3000000000    49.128938\n",
       "6000000000    47.256484\n",
       "9000000000    43.240393\n",
       "dtype: float64"
      ]
     },
     "execution_count": 18,
     "metadata": {},
     "output_type": "execute_result"
    }
   ],
   "source": [
    "pivot0[\"misses_\"] / pivot0[\"remote_rds_\"]"
   ]
  },
  {
   "cell_type": "code",
   "execution_count": 21,
   "metadata": {},
   "outputs": [
    {
     "data": {
      "text/plain": [
       "g_total_buf_sz\n",
       "3000000000    0.159111\n",
       "6000000000    0.075508\n",
       "9000000000    0.024473\n",
       "dtype: float64"
      ]
     },
     "execution_count": 21,
     "metadata": {},
     "output_type": "execute_result"
    }
   ],
   "source": [
    "pivot0[\"misses_\"] / pivot0[\"accesses_\"]"
   ]
  },
  {
   "cell_type": "code",
   "execution_count": 19,
   "metadata": {},
   "outputs": [
    {
     "data": {
      "text/plain": [
       "g_total_buf_sz\n",
       "3000000000    0.044018\n",
       "6000000000    0.027041\n",
       "9000000000    0.015405\n",
       "dtype: float64"
      ]
     },
     "execution_count": 19,
     "metadata": {},
     "output_type": "execute_result"
    }
   ],
   "source": [
    "pivot2[\"misses_\"] / pivot2[\"accesses_\"]"
   ]
  },
  {
   "cell_type": "code",
   "execution_count": 20,
   "metadata": {},
   "outputs": [
    {
     "data": {
      "text/plain": [
       "g_total_buf_sz\n",
       "3000000000    0.046788\n",
       "6000000000    0.028228\n",
       "9000000000    0.015914\n",
       "dtype: float64"
      ]
     },
     "execution_count": 20,
     "metadata": {},
     "output_type": "execute_result"
    }
   ],
   "source": [
    "(pivot2[\"misses_\"] - pivot2[\"idx_misses_\"]) / (pivot2[\"accesses_\"] - pivot2[\"idx_accesses_\"])"
   ]
  },
  {
   "cell_type": "code",
   "execution_count": 41,
   "metadata": {},
   "outputs": [
    {
     "data": {
      "image/png": "[encoded data removed]",
      "text/plain": [
       "<Figure size 324x216 with 1 Axes>"
      ]
     },
     "metadata": {
      "needs_background": "light"
     },
     "output_type": "display_data"
    }
   ],
   "source": [
    "fig, ax = plt.subplots(1, 1)\n",
    "ax.plot(workload_ratio, \n",
    "        pivot0[\"throughput_txn_per_sec\"],\n",
    "        color=line_colors[\"BLUE\"],\n",
    "        marker=\".\", label=\"Bonsai\")\n",
    "ax.plot(workload_ratio, \n",
    "        pivot1[\"throughput_txn_per_sec\"],\n",
    "        color=line_colors[\"PURPLE\"], linestyle=\"--\",\n",
    "        marker=\"^\", label=\"Bonsai w/o \\nPhantom Protection\")\n",
    "# ax.set_title(plot_names[i])\n",
    "plt.legend(frameon=False)\n",
    "#ax.set_xticks([0, 1, 2, 3], ratio)\n",
    "ax.set_ylim(ymin=0)\n",
    "ax.set_xticks(workload_ratio)\n",
    "ax.set_xlabel(\"Buffer Size / Data Size\")\n",
    "ax.set_ylabel(\"Throughput (txn/sec)\")\n",
    "plt.grid(axis = 'y', linestyle = '--', linewidth = 0.25)\n",
    "fig.set_size_inches(4.5, 3)"
   ]
  },
  {
   "cell_type": "code",
   "execution_count": 73,
   "metadata": {},
   "outputs": [
    {
     "data": {
      "text/plain": [
       "g_total_buf_sz\n",
       "3000000000      502.541\n",
       "6000000000     1132.750\n",
       "9000000000     3268.690\n",
       "15000000000    3504.070\n",
       "Name: throughput_txn_per_sec, dtype: float64"
      ]
     },
     "execution_count": 73,
     "metadata": {},
     "output_type": "execute_result"
    }
   ],
   "source": [
    "pivot0[\"throughput_txn_per_sec\"]"
   ]
  },
  {
   "cell_type": "code",
   "execution_count": 74,
   "metadata": {},
   "outputs": [
    {
     "data": {
      "text/plain": [
       "g_total_buf_sz\n",
       "3000000000     1.925166\n",
       "6000000000     1.789981\n",
       "9000000000     1.177724\n",
       "15000000000         NaN\n",
       "dtype: float64"
      ]
     },
     "execution_count": 74,
     "metadata": {},
     "output_type": "execute_result"
    }
   ],
   "source": [
    "pivot0[\"remote_rd_time_ms\"] / pivot0[\"misses_\"]"
   ]
  },
  {
   "cell_type": "code",
   "execution_count": 65,
   "metadata": {},
   "outputs": [
    {
     "data": {
      "text/plain": [
       "g_total_buf_sz\n",
       "3000000000     0.167249\n",
       "6000000000     0.082406\n",
       "9000000000     0.029185\n",
       "15000000000    0.000000\n",
       "dtype: float64"
      ]
     },
     "execution_count": 65,
     "metadata": {},
     "output_type": "execute_result"
    }
   ],
   "source": [
    "pivot0[\"remote_rds_\"] / pivot0[\"commit_cnt_\"]"
   ]
  },
  {
   "cell_type": "code",
   "execution_count": 67,
   "metadata": {},
   "outputs": [
    {
     "data": {
      "text/plain": [
       "g_total_buf_sz\n",
       "3000000000     8.257247\n",
       "6000000000     3.934465\n",
       "9000000000     1.267644\n",
       "15000000000    0.000000\n",
       "dtype: float64"
      ]
     },
     "execution_count": 67,
     "metadata": {},
     "output_type": "execute_result"
    }
   ],
   "source": [
    "pivot0[\"misses_\"] / pivot0[\"commit_cnt_\"]"
   ]
  },
  {
   "cell_type": "code",
   "execution_count": 66,
   "metadata": {},
   "outputs": [
    {
     "data": {
      "text/plain": [
       "g_total_buf_sz\n",
       "3000000000     3.018261\n",
       "6000000000     1.304684\n",
       "9000000000     0.440925\n",
       "15000000000    0.000005\n",
       "dtype: float64"
      ]
     },
     "execution_count": 66,
     "metadata": {},
     "output_type": "execute_result"
    }
   ],
   "source": [
    "pivot2[\"remote_rds_\"] / pivot0[\"commit_cnt_\"]"
   ]
  },
  {
   "cell_type": "code",
   "execution_count": 69,
   "metadata": {},
   "outputs": [
    {
     "data": {
      "text/plain": [
       "g_total_buf_sz\n",
       "3000000000     2.457683\n",
       "6000000000     1.504984\n",
       "9000000000     0.865393\n",
       "15000000000    0.000005\n",
       "dtype: float64"
      ]
     },
     "execution_count": 69,
     "metadata": {},
     "output_type": "execute_result"
    }
   ],
   "source": [
    "pivot2[\"misses_\"] / pivot2[\"commit_cnt_\"]"
   ]
  },
  {
   "cell_type": "code",
   "execution_count": 71,
   "metadata": {},
   "outputs": [
    {
     "data": {
      "text/plain": [
       "g_total_buf_sz\n",
       "3000000000     2.401332\n",
       "6000000000     1.452442\n",
       "9000000000     0.819587\n",
       "15000000000    0.000000\n",
       "dtype: float64"
      ]
     },
     "execution_count": 71,
     "metadata": {},
     "output_type": "execute_result"
    }
   ],
   "source": [
    "(pivot2[\"misses_\"] - pivot2[\"idx_misses_\"]) / pivot2[\"commit_cnt_\"]"
   ]
  },
  {
   "cell_type": "code",
   "execution_count": 24,
   "metadata": {},
   "outputs": [],
   "source": [
    "def get_data_miss_rate(df):\n",
    "    return (df[\"misses_\"] - df[\"idx_misses_\"]) / (df[\"accesses_\"] - df[\"idx_accesses_\"])"
   ]
  },
  {
   "cell_type": "code",
   "execution_count": 25,
   "metadata": {},
   "outputs": [
    {
     "data": {
      "text/plain": [
       "g_total_buf_sz\n",
       "3000000000    0.046788\n",
       "6000000000    0.028228\n",
       "9000000000    0.015914\n",
       "dtype: float64"
      ]
     },
     "execution_count": 25,
     "metadata": {},
     "output_type": "execute_result"
    }
   ],
   "source": [
    "get_data_miss_rate(pivot2)"
   ]
  },
  {
   "cell_type": "code",
   "execution_count": 49,
   "metadata": {},
   "outputs": [
    {
     "data": {
      "text/plain": [
       "g_total_buf_sz\n",
       "3000000000    0.159111\n",
       "6000000000    0.075508\n",
       "9000000000    0.024473\n",
       "dtype: float64"
      ]
     },
     "execution_count": 49,
     "metadata": {},
     "output_type": "execute_result"
    }
   ],
   "source": [
    "pivot0[\"misses_\"] / pivot0[\"accesses_\"] "
   ]
  },
  {
   "cell_type": "code",
   "execution_count": null,
   "metadata": {},
   "outputs": [],
   "source": []
  }
 ],
 "metadata": {
  "kernelspec": {
   "display_name": "Python 3",
   "language": "python",
   "name": "python3"
  },
  "language_info": {
   "codemirror_mode": {
    "name": "ipython",
    "version": 3
   },
   "file_extension": ".py",
   "mimetype": "text/x-python",
   "name": "python",
   "nbconvert_exporter": "python",
   "pygments_lexer": "ipython3",
   "version": "3.7.3"
  }
 },
 "nbformat": 4,
 "nbformat_minor": 2
}
