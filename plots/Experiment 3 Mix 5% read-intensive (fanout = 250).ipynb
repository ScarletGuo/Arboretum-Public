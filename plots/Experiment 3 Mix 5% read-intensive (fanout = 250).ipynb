{
 "cells": [
  {
   "cell_type": "code",
   "execution_count": 1,
   "metadata": {},
   "outputs": [],
   "source": [
    "from process_helper import *\n",
    "import numpy as np"
   ]
  },
  {
   "cell_type": "code",
   "execution_count": 2,
   "metadata": {},
   "outputs": [
    {
     "data": {
      "image/png": "[encoded data removed]",
      "text/plain": [
       "<Figure size 432x288 with 1 Axes>"
      ]
     },
     "metadata": {
      "needs_background": "light"
     },
     "output_type": "display_data"
    },
    {
     "data": {
      "image/png": "[encoded data removed]",
      "text/plain": [
       "<Figure size 288x144 with 1 Axes>"
      ]
     },
     "metadata": {
      "needs_background": "light"
     },
     "output_type": "display_data"
    },
    {
     "data": {
      "image/png": "[encoded data removed]",
      "text/plain": [
       "<Figure size 288x144 with 1 Axes>"
      ]
     },
     "metadata": {
      "needs_background": "light"
     },
     "output_type": "display_data"
    },
    {
     "data": {
      "text/plain": [
       "<Figure size 288x144 with 0 Axes>"
      ]
     },
     "metadata": {},
     "output_type": "display_data"
    }
   ],
   "source": [
    "_, grad_colors = display_colors()\n",
    "_, bar_colors = select_color_idx(4)\n",
    "_, line_colors = select_color_idx(4)"
   ]
  },
  {
   "cell_type": "code",
   "execution_count": 3,
   "metadata": {},
   "outputs": [],
   "source": [
    "plt.rcParams.update({'font.size': 15})\n",
    "import matplotlib as mpl\n",
    "mpl.rcParams['hatch.linewidth'] = 0.5"
   ]
  },
  {
   "cell_type": "code",
   "execution_count": 4,
   "metadata": {},
   "outputs": [],
   "source": [
    "datadir = \"../output/\""
   ]
  },
  {
   "cell_type": "markdown",
   "metadata": {},
   "source": [
    "## Experiment 1: limit = 16k"
   ]
  },
  {
   "cell_type": "code",
   "execution_count": 5,
   "metadata": {},
   "outputs": [],
   "source": [
    "exp = \"exp_mix_10g_fanout250\""
   ]
  },
  {
   "cell_type": "code",
   "execution_count": 15,
   "metadata": {},
   "outputs": [],
   "source": [
    "data = [json.loads(line) for line in open(datadir + exp + \".txt\")]\n",
    "df = pd.DataFrame().from_records(data)"
   ]
  },
  {
   "cell_type": "code",
   "execution_count": 7,
   "metadata": {},
   "outputs": [
    {
     "data": {
      "text/plain": [
       "Index(['abort_cnt_', 'accesses_', 'avg_commit_queue_sz_',\n",
       "       'avg_log_flush_interval_ (us)', 'avg_log_group_sz_',\n",
       "       'avg_log_latency_ (us)', 'avg_per_worker_runtime_sec',\n",
       "       'avg_sum_commit_latency (us)', 'avg_sum_log_flush_latency (us)',\n",
       "       'bufferd_idx_pgs_', 'cc_time_ms', 'commit_cnt_',\n",
       "       'commit_latency_perc0_us', 'commit_latency_perc50_us',\n",
       "       'commit_latency_perc99_us', 'commit_queue_sz_', 'g_buf_entry_sz',\n",
       "       'g_buf_type', 'g_check_loaded', 'g_commit_group_sz', 'g_commit_pool_sz',\n",
       "       'g_commit_queue_limit', 'g_cpu_freq', 'g_early_lock_release',\n",
       "       'g_enable_group_commit', 'g_enable_logging',\n",
       "       'g_enable_phantom_protection', 'g_force_write', 'g_idx_btree_fanout',\n",
       "       'g_idx_btree_split_ratio', 'g_index_type', 'g_load_range',\n",
       "       'g_load_to_remote_only', 'g_log_freq_us', 'g_node_id',\n",
       "       'g_num_restore_thds', 'g_num_worker_threads', 'g_pagebuf_num_slots',\n",
       "       'g_partition_sz', 'g_remote_req_retries', 'g_restore_from_remote',\n",
       "       'g_save_output', 'g_scan_fetch_sz', 'g_total_buf_sz',\n",
       "       'g_warmup_finished', 'hit_rate_', 'idx_accesses_', 'idx_misses_',\n",
       "       'idx_time_ms', 'insert_txn_perc_', 'loading_endkey', 'loading_startkey',\n",
       "       'log_flush_interval_ms', 'log_flush_latency_perc0_us',\n",
       "       'log_flush_latency_perc50_us', 'log_flush_latency_perc99_us',\n",
       "       'log_group_sz_', 'log_latency_ms', 'misses_',\n",
       "       'num_commit_queue_samples_', 'num_flushes_', 'num_logs_',\n",
       "       'num_req_per_query_', 'num_rows_', 'num_workers_', 'read_perc_',\n",
       "       'remote_io_time_ms', 'remote_rd_time_ms', 'remote_rds_',\n",
       "       'remote_rw_time_ms', 'remote_rws_', 'remote_wr_time_ms', 'remote_wrs_',\n",
       "       'runtime_', 'rw_txn_perc_', 'thd_runtime_ms', 'throughput_txn_per_sec',\n",
       "       'warmup_time_', 'zipf_theta_'],\n",
       "      dtype='object')"
      ]
     },
     "execution_count": 7,
     "metadata": {},
     "output_type": "execute_result"
    }
   ],
   "source": [
    "df.columns"
   ]
  },
  {
   "cell_type": "code",
   "execution_count": 9,
   "metadata": {},
   "outputs": [
    {
     "data": {
      "text/html": [
       "<div>\n",
       "<style scoped>\n",
       "    .dataframe tbody tr th:only-of-type {\n",
       "        vertical-align: middle;\n",
       "    }\n",
       "\n",
       "    .dataframe tbody tr th {\n",
       "        vertical-align: top;\n",
       "    }\n",
       "\n",
       "    .dataframe thead th {\n",
       "        text-align: right;\n",
       "    }\n",
       "</style>\n",
       "<table border=\"1\" class=\"dataframe\">\n",
       "  <thead>\n",
       "    <tr style=\"text-align: right;\">\n",
       "      <th></th>\n",
       "      <th>throughput_txn_per_sec</th>\n",
       "      <th>abort_cnt_</th>\n",
       "      <th>hit_rate_</th>\n",
       "      <th>misses_</th>\n",
       "      <th>avg_log_group_sz_</th>\n",
       "      <th>avg_sum_log_flush_latency (us)</th>\n",
       "      <th>avg_log_latency_ (us)</th>\n",
       "      <th>avg_log_flush_interval_ (us)</th>\n",
       "      <th>num_flushes_</th>\n",
       "      <th>remote_rds_</th>\n",
       "      <th>commit_cnt_</th>\n",
       "      <th>remote_rd_time_ms</th>\n",
       "    </tr>\n",
       "    <tr>\n",
       "      <th>g_total_buf_sz</th>\n",
       "      <th></th>\n",
       "      <th></th>\n",
       "      <th></th>\n",
       "      <th></th>\n",
       "      <th></th>\n",
       "      <th></th>\n",
       "      <th></th>\n",
       "      <th></th>\n",
       "      <th></th>\n",
       "      <th></th>\n",
       "      <th></th>\n",
       "      <th></th>\n",
       "    </tr>\n",
       "  </thead>\n",
       "  <tbody>\n",
       "    <tr>\n",
       "      <th>3000000000</th>\n",
       "      <td>509.54</td>\n",
       "      <td>169826</td>\n",
       "      <td>0.942759</td>\n",
       "      <td>489105</td>\n",
       "      <td>11.7922</td>\n",
       "      <td>10858.5</td>\n",
       "      <td>3729.08</td>\n",
       "      <td>11557.7</td>\n",
       "      <td>5192</td>\n",
       "      <td>17905</td>\n",
       "      <td>61224</td>\n",
       "      <td>958986.0</td>\n",
       "    </tr>\n",
       "    <tr>\n",
       "      <th>6000000000</th>\n",
       "      <td>1083.35</td>\n",
       "      <td>234301</td>\n",
       "      <td>0.958041</td>\n",
       "      <td>486475</td>\n",
       "      <td>29.2101</td>\n",
       "      <td>12892.4</td>\n",
       "      <td>2042.19</td>\n",
       "      <td>13443.7</td>\n",
       "      <td>4456</td>\n",
       "      <td>18685</td>\n",
       "      <td>130160</td>\n",
       "      <td>957993.0</td>\n",
       "    </tr>\n",
       "    <tr>\n",
       "      <th>9000000000</th>\n",
       "      <td>3201.15</td>\n",
       "      <td>601766</td>\n",
       "      <td>0.984946</td>\n",
       "      <td>477171</td>\n",
       "      <td>512.5980</td>\n",
       "      <td>79478.9</td>\n",
       "      <td>2324.56</td>\n",
       "      <td>79767.5</td>\n",
       "      <td>752</td>\n",
       "      <td>19742</td>\n",
       "      <td>384783</td>\n",
       "      <td>623792.0</td>\n",
       "    </tr>\n",
       "    <tr>\n",
       "      <th>15000000000</th>\n",
       "      <td>3521.78</td>\n",
       "      <td>8474</td>\n",
       "      <td>1.000000</td>\n",
       "      <td>0</td>\n",
       "      <td>828.1120</td>\n",
       "      <td>116873.0</td>\n",
       "      <td>2266.95</td>\n",
       "      <td>117376.0</td>\n",
       "      <td>516</td>\n",
       "      <td>0</td>\n",
       "      <td>427306</td>\n",
       "      <td>0.0</td>\n",
       "    </tr>\n",
       "  </tbody>\n",
       "</table>\n",
       "</div>"
      ],
      "text/plain": [
       "                throughput_txn_per_sec  abort_cnt_  hit_rate_  misses_  \\\n",
       "g_total_buf_sz                                                           \n",
       "3000000000                      509.54      169826   0.942759   489105   \n",
       "6000000000                     1083.35      234301   0.958041   486475   \n",
       "9000000000                     3201.15      601766   0.984946   477171   \n",
       "15000000000                    3521.78        8474   1.000000        0   \n",
       "\n",
       "                avg_log_group_sz_  avg_sum_log_flush_latency (us)  \\\n",
       "g_total_buf_sz                                                      \n",
       "3000000000                11.7922                         10858.5   \n",
       "6000000000                29.2101                         12892.4   \n",
       "9000000000               512.5980                         79478.9   \n",
       "15000000000              828.1120                        116873.0   \n",
       "\n",
       "                avg_log_latency_ (us)  avg_log_flush_interval_ (us)  \\\n",
       "g_total_buf_sz                                                        \n",
       "3000000000                    3729.08                       11557.7   \n",
       "6000000000                    2042.19                       13443.7   \n",
       "9000000000                    2324.56                       79767.5   \n",
       "15000000000                   2266.95                      117376.0   \n",
       "\n",
       "                num_flushes_  remote_rds_  commit_cnt_  remote_rd_time_ms  \n",
       "g_total_buf_sz                                                             \n",
       "3000000000              5192        17905        61224           958986.0  \n",
       "6000000000              4456        18685       130160           957993.0  \n",
       "9000000000               752        19742       384783           623792.0  \n",
       "15000000000              516            0       427306                0.0  "
      ]
     },
     "execution_count": 9,
     "metadata": {},
     "output_type": "execute_result"
    }
   ],
   "source": [
    "# create pivot table\n",
    "df0 = apply_mask(df, [\n",
    "    [\"g_buf_type\", [\"eq\", \"OBJBUF\"]],\n",
    "    [\"g_enable_phantom_protection\", [\"eq\", \"True\"]],\n",
    "    [\"read_perc_\", 0.9]\n",
    "])\n",
    "pivot0 = df0.groupby([\n",
    "    \"g_total_buf_sz\",\n",
    "])[\n",
    "    \"throughput_txn_per_sec\",\"abort_cnt_\",\"hit_rate_\",\"misses_\", \n",
    "    \"avg_log_group_sz_\",\"avg_sum_log_flush_latency (us)\",\n",
    "    \"avg_log_latency_ (us)\", \"avg_log_flush_interval_ (us)\", \n",
    "    \"num_flushes_\", \"remote_rds_\", \"commit_cnt_\", \"remote_rd_time_ms\"\n",
    "    ].max()\n",
    "pivot0"
   ]
  },
  {
   "cell_type": "code",
   "execution_count": 10,
   "metadata": {},
   "outputs": [
    {
     "data": {
      "text/html": [
       "<div>\n",
       "<style scoped>\n",
       "    .dataframe tbody tr th:only-of-type {\n",
       "        vertical-align: middle;\n",
       "    }\n",
       "\n",
       "    .dataframe tbody tr th {\n",
       "        vertical-align: top;\n",
       "    }\n",
       "\n",
       "    .dataframe thead th {\n",
       "        text-align: right;\n",
       "    }\n",
       "</style>\n",
       "<table border=\"1\" class=\"dataframe\">\n",
       "  <thead>\n",
       "    <tr style=\"text-align: right;\">\n",
       "      <th></th>\n",
       "      <th>throughput_txn_per_sec</th>\n",
       "      <th>abort_cnt_</th>\n",
       "      <th>hit_rate_</th>\n",
       "      <th>misses_</th>\n",
       "      <th>avg_log_group_sz_</th>\n",
       "      <th>avg_sum_log_flush_latency (us)</th>\n",
       "      <th>avg_log_latency_ (us)</th>\n",
       "      <th>avg_log_flush_interval_ (us)</th>\n",
       "      <th>num_flushes_</th>\n",
       "      <th>g_buf_type</th>\n",
       "      <th>remote_rds_</th>\n",
       "      <th>commit_cnt_</th>\n",
       "      <th>remote_rd_time_ms</th>\n",
       "      <th>idx_misses_</th>\n",
       "      <th>idx_accesses_</th>\n",
       "    </tr>\n",
       "    <tr>\n",
       "      <th>g_total_buf_sz</th>\n",
       "      <th></th>\n",
       "      <th></th>\n",
       "      <th></th>\n",
       "      <th></th>\n",
       "      <th></th>\n",
       "      <th></th>\n",
       "      <th></th>\n",
       "      <th></th>\n",
       "      <th></th>\n",
       "      <th></th>\n",
       "      <th></th>\n",
       "      <th></th>\n",
       "      <th></th>\n",
       "      <th></th>\n",
       "      <th></th>\n",
       "    </tr>\n",
       "  </thead>\n",
       "  <tbody>\n",
       "    <tr>\n",
       "      <th>3000000000</th>\n",
       "      <td>557.329</td>\n",
       "      <td>770081</td>\n",
       "      <td>0.995293</td>\n",
       "      <td>176761</td>\n",
       "      <td>12.8413</td>\n",
       "      <td>11406.4</td>\n",
       "      <td>6379.00</td>\n",
       "      <td>11448.7</td>\n",
       "      <td>5384</td>\n",
       "      <td>PGBUF</td>\n",
       "      <td>176761</td>\n",
       "      <td>67430</td>\n",
       "      <td>961917.0000</td>\n",
       "      <td>5537</td>\n",
       "      <td>8041956</td>\n",
       "    </tr>\n",
       "    <tr>\n",
       "      <th>6000000000</th>\n",
       "      <td>906.518</td>\n",
       "      <td>873333</td>\n",
       "      <td>0.995946</td>\n",
       "      <td>180614</td>\n",
       "      <td>24.0825</td>\n",
       "      <td>12807.3</td>\n",
       "      <td>4645.81</td>\n",
       "      <td>12834.0</td>\n",
       "      <td>4676</td>\n",
       "      <td>PGBUF</td>\n",
       "      <td>180614</td>\n",
       "      <td>112572</td>\n",
       "      <td>971980.0000</td>\n",
       "      <td>8300</td>\n",
       "      <td>9334539</td>\n",
       "    </tr>\n",
       "    <tr>\n",
       "      <th>9000000000</th>\n",
       "      <td>1473.230</td>\n",
       "      <td>896409</td>\n",
       "      <td>0.997023</td>\n",
       "      <td>169945</td>\n",
       "      <td>48.0262</td>\n",
       "      <td>15661.2</td>\n",
       "      <td>3346.12</td>\n",
       "      <td>15710.0</td>\n",
       "      <td>3818</td>\n",
       "      <td>PGBUF</td>\n",
       "      <td>169945</td>\n",
       "      <td>183364</td>\n",
       "      <td>930834.0000</td>\n",
       "      <td>10864</td>\n",
       "      <td>9740883</td>\n",
       "    </tr>\n",
       "    <tr>\n",
       "      <th>15000000000</th>\n",
       "      <td>3578.700</td>\n",
       "      <td>9109</td>\n",
       "      <td>1.000000</td>\n",
       "      <td>2</td>\n",
       "      <td>825.0380</td>\n",
       "      <td>114717.0</td>\n",
       "      <td>2233.65</td>\n",
       "      <td>115238.0</td>\n",
       "      <td>521</td>\n",
       "      <td>PGBUF</td>\n",
       "      <td>2</td>\n",
       "      <td>429845</td>\n",
       "      <td>11.2048</td>\n",
       "      <td>2</td>\n",
       "      <td>3294817</td>\n",
       "    </tr>\n",
       "  </tbody>\n",
       "</table>\n",
       "</div>"
      ],
      "text/plain": [
       "                throughput_txn_per_sec  abort_cnt_  hit_rate_  misses_  \\\n",
       "g_total_buf_sz                                                           \n",
       "3000000000                     557.329      770081   0.995293   176761   \n",
       "6000000000                     906.518      873333   0.995946   180614   \n",
       "9000000000                    1473.230      896409   0.997023   169945   \n",
       "15000000000                   3578.700        9109   1.000000        2   \n",
       "\n",
       "                avg_log_group_sz_  avg_sum_log_flush_latency (us)  \\\n",
       "g_total_buf_sz                                                      \n",
       "3000000000                12.8413                         11406.4   \n",
       "6000000000                24.0825                         12807.3   \n",
       "9000000000                48.0262                         15661.2   \n",
       "15000000000              825.0380                        114717.0   \n",
       "\n",
       "                avg_log_latency_ (us)  avg_log_flush_interval_ (us)  \\\n",
       "g_total_buf_sz                                                        \n",
       "3000000000                    6379.00                       11448.7   \n",
       "6000000000                    4645.81                       12834.0   \n",
       "9000000000                    3346.12                       15710.0   \n",
       "15000000000                   2233.65                      115238.0   \n",
       "\n",
       "                num_flushes_ g_buf_type  remote_rds_  commit_cnt_  \\\n",
       "g_total_buf_sz                                                      \n",
       "3000000000              5384      PGBUF       176761        67430   \n",
       "6000000000              4676      PGBUF       180614       112572   \n",
       "9000000000              3818      PGBUF       169945       183364   \n",
       "15000000000              521      PGBUF            2       429845   \n",
       "\n",
       "                remote_rd_time_ms  idx_misses_  idx_accesses_  \n",
       "g_total_buf_sz                                                 \n",
       "3000000000            961917.0000         5537        8041956  \n",
       "6000000000            971980.0000         8300        9334539  \n",
       "9000000000            930834.0000        10864        9740883  \n",
       "15000000000               11.2048            2        3294817  "
      ]
     },
     "execution_count": 10,
     "metadata": {},
     "output_type": "execute_result"
    }
   ],
   "source": [
    "# create pivot table\n",
    "df2 = apply_mask(df, [\n",
    "    [\"g_buf_type\", [\"eq\", \"PGBUF\"]],\n",
    "    [\"g_enable_phantom_protection\", [\"eq\", \"True\"]],\n",
    "    [\"read_perc_\", 0.9]\n",
    "])\n",
    "pivot2 = df2.groupby([\n",
    "    \"g_total_buf_sz\",\n",
    "])[\n",
    "    \"throughput_txn_per_sec\",\"abort_cnt_\",\"hit_rate_\",\"misses_\", \n",
    "    \"avg_log_group_sz_\",\"avg_sum_log_flush_latency (us)\",\n",
    "    \"avg_log_latency_ (us)\", \"avg_log_flush_interval_ (us)\", \n",
    "    \"num_flushes_\", \"g_buf_type\", \"remote_rds_\", \"commit_cnt_\", \"remote_rd_time_ms\",\n",
    "    \"idx_misses_\", \"idx_accesses_\"\n",
    "    ].max()\n",
    "pivot2"
   ]
  },
  {
   "cell_type": "code",
   "execution_count": 16,
   "metadata": {},
   "outputs": [
    {
     "data": {
      "text/html": [
       "<div>\n",
       "<style scoped>\n",
       "    .dataframe tbody tr th:only-of-type {\n",
       "        vertical-align: middle;\n",
       "    }\n",
       "\n",
       "    .dataframe tbody tr th {\n",
       "        vertical-align: top;\n",
       "    }\n",
       "\n",
       "    .dataframe thead th {\n",
       "        text-align: right;\n",
       "    }\n",
       "</style>\n",
       "<table border=\"1\" class=\"dataframe\">\n",
       "  <thead>\n",
       "    <tr style=\"text-align: right;\">\n",
       "      <th></th>\n",
       "      <th>throughput_txn_per_sec</th>\n",
       "      <th>abort_cnt_</th>\n",
       "      <th>hit_rate_</th>\n",
       "      <th>misses_</th>\n",
       "      <th>avg_log_group_sz_</th>\n",
       "      <th>avg_sum_log_flush_latency (us)</th>\n",
       "      <th>avg_log_latency_ (us)</th>\n",
       "      <th>avg_log_flush_interval_ (us)</th>\n",
       "      <th>commit_cnt_</th>\n",
       "      <th>num_flushes_</th>\n",
       "      <th>g_buf_type</th>\n",
       "      <th>remote_rds_</th>\n",
       "      <th>remote_rd_time_ms</th>\n",
       "    </tr>\n",
       "    <tr>\n",
       "      <th>g_total_buf_sz</th>\n",
       "      <th></th>\n",
       "      <th></th>\n",
       "      <th></th>\n",
       "      <th></th>\n",
       "      <th></th>\n",
       "      <th></th>\n",
       "      <th></th>\n",
       "      <th></th>\n",
       "      <th></th>\n",
       "      <th></th>\n",
       "      <th></th>\n",
       "      <th></th>\n",
       "      <th></th>\n",
       "    </tr>\n",
       "  </thead>\n",
       "  <tbody>\n",
       "    <tr>\n",
       "      <th>3000000000</th>\n",
       "      <td>112.37</td>\n",
       "      <td>39</td>\n",
       "      <td>0.0</td>\n",
       "      <td>782959</td>\n",
       "      <td>1.93935</td>\n",
       "      <td>8553.35</td>\n",
       "      <td>12951.2</td>\n",
       "      <td>8624.03</td>\n",
       "      <td>13492</td>\n",
       "      <td>6958</td>\n",
       "      <td>NOBUF</td>\n",
       "      <td>24169</td>\n",
       "      <td>479690.0</td>\n",
       "    </tr>\n",
       "  </tbody>\n",
       "</table>\n",
       "</div>"
      ],
      "text/plain": [
       "                throughput_txn_per_sec  abort_cnt_  hit_rate_  misses_  \\\n",
       "g_total_buf_sz                                                           \n",
       "3000000000                      112.37          39        0.0   782959   \n",
       "\n",
       "                avg_log_group_sz_  avg_sum_log_flush_latency (us)  \\\n",
       "g_total_buf_sz                                                      \n",
       "3000000000                1.93935                         8553.35   \n",
       "\n",
       "                avg_log_latency_ (us)  avg_log_flush_interval_ (us)  \\\n",
       "g_total_buf_sz                                                        \n",
       "3000000000                    12951.2                       8624.03   \n",
       "\n",
       "                commit_cnt_  num_flushes_ g_buf_type  remote_rds_  \\\n",
       "g_total_buf_sz                                                      \n",
       "3000000000            13492          6958      NOBUF        24169   \n",
       "\n",
       "                remote_rd_time_ms  \n",
       "g_total_buf_sz                     \n",
       "3000000000               479690.0  "
      ]
     },
     "execution_count": 16,
     "metadata": {},
     "output_type": "execute_result"
    }
   ],
   "source": [
    "# create pivot table\n",
    "df3 = apply_mask(df, [\n",
    "    [\"g_buf_type\", [\"eq\", \"NOBUF\"]],\n",
    "    [\"read_perc_\", 0.9]\n",
    "])\n",
    "pivot3 = df3.groupby([\n",
    "    \"g_total_buf_sz\", \n",
    "])[\n",
    "    \"throughput_txn_per_sec\",\"abort_cnt_\",\"hit_rate_\",\"misses_\", \n",
    "    \"avg_log_group_sz_\",\"avg_sum_log_flush_latency (us)\",\n",
    "    \"avg_log_latency_ (us)\", \"avg_log_flush_interval_ (us)\", \"commit_cnt_\",\n",
    "    \"num_flushes_\", \"g_buf_type\", \"remote_rds_\", \"remote_rd_time_ms\"\n",
    "    ].max()\n",
    "pivot3"
   ]
  },
  {
   "cell_type": "code",
   "execution_count": 17,
   "metadata": {},
   "outputs": [
    {
     "name": "stdout",
     "output_type": "stream",
     "text": [
      "[0.3, 0.6, 0.9, 1.3]\n"
     ]
    },
    {
     "data": {
      "image/png": "[encoded data removed]",
      "text/plain": [
       "<Figure size 324x216 with 1 Axes>"
      ]
     },
     "metadata": {
      "needs_background": "light"
     },
     "output_type": "display_data"
    }
   ],
   "source": [
    "workload_ratio = [round(sz / 10240000000.0 * 10) / 10.0 for sz in pivot0.index]\n",
    "workload_ratio[-1] = 1.3\n",
    "print(workload_ratio)\n",
    "fig, ax = plt.subplots(1, 1)\n",
    "ax.plot(workload_ratio, \n",
    "        pivot0[\"throughput_txn_per_sec\"],\n",
    "        color=line_colors[\"BLUE\"],\n",
    "        marker=\"^\", label=\"Bonsai\")\n",
    "ax.plot(workload_ratio, \n",
    "        pivot2[\"throughput_txn_per_sec\"],\n",
    "        color=line_colors[\"GREEN\"],\n",
    "        marker=\".\", label=\"Page-Index\")\n",
    "ax.plot(workload_ratio, \n",
    "        [pivot3[\"throughput_txn_per_sec\"].values] * pivot0.shape[0],\n",
    "        color=line_colors[\"ORANGE\"],\n",
    "        marker=\".\", label=\"Remote-Index\")\n",
    "# ax.set_title(plot_names[i])\n",
    "plt.legend(frameon=False)\n",
    "ax.set_ylim(ymin=0)\n",
    "ax.set_xlim(xmin=0)\n",
    "ax.set_xticks(workload_ratio)\n",
    "ax.set_xlabel(\"Buffer Size / Data Size\")\n",
    "ax.set_ylabel(\"Throughput (txn/sec)\")\n",
    "fig.set_size_inches(4.5, 3)\n",
    "plt.grid(axis = 'y', linestyle = '--', linewidth = 0.25)\n",
    "path = \"/Users/scarlet/Desktop/Bonsai/figures/\"\n",
    "fig.savefig(path + \"mix_10g_fanout250_limit16k.pdf\", bbox_inches=\"tight\") "
   ]
  },
  {
   "cell_type": "code",
   "execution_count": 20,
   "metadata": {},
   "outputs": [
    {
     "data": {
      "image/png": "[encoded data removed]",
      "text/plain": [
       "<Figure size 324x216 with 1 Axes>"
      ]
     },
     "metadata": {
      "needs_background": "light"
     },
     "output_type": "display_data"
    }
   ],
   "source": [
    "fig, ax = plt.subplots(1, 1)\n",
    "xvals = np.arange(len(workload_ratio))\n",
    "width = (1 - 0.2) / 3\n",
    "ax.bar(xvals, pivot0[\"remote_rd_time_ms\"] / pivot0[\"commit_cnt_\"],\n",
    "       width=width, edgecolor=\"black\", \n",
    "       facecolor=bar_colors[\"BLUE\"], label=\"Bonsai\")\n",
    "ax.bar(xvals + width, pivot2[\"remote_rd_time_ms\"] / pivot2[\"commit_cnt_\"],\n",
    "      width=width, edgecolor=\"black\", hatch=\"//\",\n",
    "       facecolor=bar_colors[\"GREEN\"], label=\"Page-Index\")\n",
    "ax.bar(xvals + width*2, pivot3[\"remote_rd_time_ms\"] / pivot3[\"commit_cnt_\"],\n",
    "      width=width, edgecolor=\"black\", hatch=\"\\\\\\\\\",\n",
    "       facecolor=bar_colors[\"ORANGE\"], label=\"Remote-Index\")\n",
    "for x in xvals:\n",
    "    y = pivot3[\"remote_rd_time_ms\"] / pivot3[\"commit_cnt_\"]\n",
    "    ax.text(x + 0.2, 21, \"%.2f\" % y, color=line_colors[\"ORANGE\"])\n",
    "ax.set_ylim(0, 20)\n",
    "plt.xticks(xvals + width, workload_ratio)\n",
    "ax.set_xlabel(\"Buffer Size / Data Size\")\n",
    "ax.set_ylabel(\"I/O Time per Txn (ms)\")\n",
    "fig.set_size_inches(4.5, 3)\n",
    "plt.legend()\n",
    "path = \"/Users/scarlet/Desktop/Bonsai/figures/\"\n",
    "fig.savefig(path + \"mix_10g_fanout250_limit16k_analysis.pdf\", bbox_inches=\"tight\") "
   ]
  },
  {
   "cell_type": "code",
   "execution_count": null,
   "metadata": {},
   "outputs": [],
   "source": []
  }
 ],
 "metadata": {
  "kernelspec": {
   "display_name": "Python 3",
   "language": "python",
   "name": "python3"
  },
  "language_info": {
   "codemirror_mode": {
    "name": "ipython",
    "version": 3
   },
   "file_extension": ".py",
   "mimetype": "text/x-python",
   "name": "python",
   "nbconvert_exporter": "python",
   "pygments_lexer": "ipython3",
   "version": "3.7.3"
  }
 },
 "nbformat": 4,
 "nbformat_minor": 2
}
