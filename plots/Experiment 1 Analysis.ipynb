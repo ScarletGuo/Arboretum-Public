{
 "cells": [
  {
   "cell_type": "code",
   "execution_count": 1,
   "metadata": {},
   "outputs": [],
   "source": [
    "from process_helper import *\n",
    "import numpy as np\n",
    "_, grad_colors = display_colors()\n",
    "_, bar_colors = select_color_idx(4)\n",
    "_, line_colors = select_color_idx(4)\n",
    "plt.rcParams.update({'font.size': 15})\n",
    "import matplotlib as mpl\n",
    "mpl.rcParams['hatch.linewidth'] = 0.5\n",
    "datadir = \"../output/\""
   ]
  },
  {
   "cell_type": "code",
   "execution_count": 5,
   "metadata": {},
   "outputs": [],
   "source": [
    "data = [json.loads(line) for line in open(datadir + \"exp_point_10g_fanout250\" + \".txt\")]\n",
    "bonsai = pd.DataFrame().from_records(data)\n",
    "bonsai[\"id\"] = range(bonsai.shape[0])\n",
    "bonsai = apply_mask(bonsai, [\n",
    "    [\"g_buf_type\", [\"eq\", \"OBJBUF\"]],\n",
    "    [\"g_total_buf_sz\", [\"eq\", 3000000000]],\n",
    "    [\"read_perc_\", [\"eq\", 0.5]]\n",
    "])"
   ]
  },
  {
   "cell_type": "code",
   "execution_count": 6,
   "metadata": {},
   "outputs": [
    {
     "data": {
      "text/plain": [
       "89    228.322\n",
       "91    289.070\n",
       "93    391.350\n",
       "95    288.150\n",
       "Name: throughput_txn_per_sec, dtype: float64"
      ]
     },
     "execution_count": 6,
     "metadata": {},
     "output_type": "execute_result"
    }
   ],
   "source": [
    "bonsai[\"throughput_txn_per_sec\"] "
   ]
  },
  {
   "cell_type": "code",
   "execution_count": null,
   "metadata": {},
   "outputs": [],
   "source": []
  },
  {
   "cell_type": "code",
   "execution_count": null,
   "metadata": {},
   "outputs": [],
   "source": [
    "data = [json.loads(line) for line in open(datadir + \"microbench_zipf_10g_fanout250\" + \".txt\")]\n",
    "bonsai = pd.DataFrame().from_records(data)\n",
    "bonsai[\"id\"] = range(bonsai.shape[0])\n",
    "bonsai = apply_mask(bonsai, [\n",
    "    [\"g_buf_type\", [\"eq\", \"OBJBUF\"]],\n",
    "    [\"g_total_buf_sz\", [\"eq\", 6000000000]],\n",
    "    [\"zipf_theta_\", [\"eq\", 0.3]],\n",
    "    [\"read_perc_\", [\"eq\", 1.0]]\n",
    "])"
   ]
  },
  {
   "cell_type": "code",
   "execution_count": 4,
   "metadata": {},
   "outputs": [],
   "source": [
    "exp = \"perf_analysis\"\n",
    "data = [json.loads(line) for line in open(datadir + exp + \".txt\")]\n",
    "df = pd.DataFrame().from_records(data)\n",
    "df[\"id\"] = range(df.shape[0])"
   ]
  },
  {
   "cell_type": "code",
   "execution_count": null,
   "metadata": {},
   "outputs": [],
   "source": [
    "df.columns"
   ]
  },
  {
   "cell_type": "code",
   "execution_count": 31,
   "metadata": {},
   "outputs": [
    {
     "data": {
      "text/plain": [
       "0    1.129688\n",
       "1    0.774607\n",
       "dtype: float64"
      ]
     },
     "execution_count": 31,
     "metadata": {},
     "output_type": "execute_result"
    }
   ],
   "source": [
    "df[\"idx_misses_\"] / df[\"commit_cnt_\"]"
   ]
  },
  {
   "cell_type": "code",
   "execution_count": 24,
   "metadata": {},
   "outputs": [
    {
     "data": {
      "text/plain": [
       "0    12.288410\n",
       "1     8.435995\n",
       "dtype: float64"
      ]
     },
     "execution_count": 24,
     "metadata": {},
     "output_type": "execute_result"
    }
   ],
   "source": [
    "(df[\"misses_\"] - df[\"idx_misses_\"]) / df[\"commit_cnt_\"]"
   ]
  },
  {
   "cell_type": "code",
   "execution_count": 23,
   "metadata": {},
   "outputs": [
    {
     "data": {
      "text/plain": [
       "0     9.416467\n",
       "49    5.437716\n",
       "73    9.405395\n",
       "dtype: float64"
      ]
     },
     "execution_count": 23,
     "metadata": {},
     "output_type": "execute_result"
    }
   ],
   "source": [
    "bonsai[\"misses_\"] / bonsai[\"commit_cnt_\"]"
   ]
  },
  {
   "cell_type": "code",
   "execution_count": 28,
   "metadata": {},
   "outputs": [
    {
     "data": {
      "text/plain": [
       "Index(['abort_cnt_', 'accesses_', 'avg_commit_queue_sz_',\n",
       "       'avg_log_flush_interval_ (us)', 'avg_log_group_sz_',\n",
       "       'avg_log_latency_ (us)', 'avg_per_worker_runtime_sec',\n",
       "       'avg_sum_commit_latency (us)', 'avg_sum_log_flush_latency (us)',\n",
       "       'bufferd_idx_pgs_', 'cc_time_ms', 'commit_cnt_',\n",
       "       'commit_latency_perc0_us', 'commit_latency_perc50_us',\n",
       "       'commit_latency_perc99_us', 'commit_queue_sz_', 'g_buf_entry_sz',\n",
       "       'g_buf_type', 'g_check_loaded', 'g_commit_group_sz', 'g_commit_pool_sz',\n",
       "       'g_commit_queue_limit', 'g_cpu_freq', 'g_early_lock_release',\n",
       "       'g_enable_group_commit', 'g_enable_logging',\n",
       "       'g_enable_phantom_protection', 'g_force_write', 'g_idx_btree_fanout',\n",
       "       'g_idx_btree_split_ratio', 'g_index_type', 'g_load_range',\n",
       "       'g_load_to_remote_only', 'g_log_freq_us', 'g_node_id',\n",
       "       'g_num_restore_thds', 'g_num_worker_threads', 'g_pagebuf_num_slots',\n",
       "       'g_partition_sz', 'g_remote_req_retries', 'g_restore_from_remote',\n",
       "       'g_save_output', 'g_scan_fetch_sz', 'g_total_buf_sz',\n",
       "       'g_warmup_finished', 'hit_rate_', 'idx_accesses_', 'idx_misses_',\n",
       "       'idx_time_ms', 'insert_txn_perc_', 'loading_endkey', 'loading_startkey',\n",
       "       'log_flush_interval_ms', 'log_flush_latency_perc0_us',\n",
       "       'log_flush_latency_perc50_us', 'log_flush_latency_perc99_us',\n",
       "       'log_group_sz_', 'log_latency_ms', 'misses_',\n",
       "       'num_commit_queue_samples_', 'num_flushes_', 'num_logs_',\n",
       "       'num_req_per_query_', 'num_rows_', 'num_workers_', 'read_perc_',\n",
       "       'remote_io_time_ms', 'remote_rd_time_ms', 'remote_rds_',\n",
       "       'remote_rw_time_ms', 'remote_rws_', 'remote_wr_time_ms', 'remote_wrs_',\n",
       "       'runtime_', 'rw_txn_perc_', 'thd_runtime_ms', 'throughput_txn_per_sec',\n",
       "       'warmup_time_', 'zipf_theta_', 'id'],\n",
       "      dtype='object')"
      ]
     },
     "execution_count": 28,
     "metadata": {},
     "output_type": "execute_result"
    }
   ],
   "source": [
    "df.columns"
   ]
  },
  {
   "cell_type": "code",
   "execution_count": 30,
   "metadata": {},
   "outputs": [
    {
     "data": {
      "text/plain": [
       "0    0.962492\n",
       "1    0.984807\n",
       "Name: bufferd_idx_pgs_, dtype: float64"
      ]
     },
     "execution_count": 30,
     "metadata": {},
     "output_type": "execute_result"
    }
   ],
   "source": [
    "df[\"bufferd_idx_pgs_\"] / 91421"
   ]
  },
  {
   "cell_type": "code",
   "execution_count": null,
   "metadata": {},
   "outputs": [],
   "source": []
  }
 ],
 "metadata": {
  "kernelspec": {
   "display_name": "Python 3",
   "language": "python",
   "name": "python3"
  },
  "language_info": {
   "codemirror_mode": {
    "name": "ipython",
    "version": 3
   },
   "file_extension": ".py",
   "mimetype": "text/x-python",
   "name": "python",
   "nbconvert_exporter": "python",
   "pygments_lexer": "ipython3",
   "version": "3.7.3"
  }
 },
 "nbformat": 4,
 "nbformat_minor": 2
}
