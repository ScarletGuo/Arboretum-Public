{
 "cells": [
  {
   "cell_type": "code",
   "execution_count": 1,
   "metadata": {},
   "outputs": [],
   "source": [
    "from process_helper import *\n",
    "import numpy as np"
   ]
  },
  {
   "cell_type": "code",
   "execution_count": 2,
   "metadata": {},
   "outputs": [
    {
     "data": {
      "image/png": "[encoded data removed]",
      "text/plain": [
       "<Figure size 432x288 with 1 Axes>"
      ]
     },
     "metadata": {
      "needs_background": "light"
     },
     "output_type": "display_data"
    },
    {
     "data": {
      "image/png": "[encoded data removed]",
      "text/plain": [
       "<Figure size 288x144 with 1 Axes>"
      ]
     },
     "metadata": {
      "needs_background": "light"
     },
     "output_type": "display_data"
    },
    {
     "data": {
      "image/png": "[encoded data removed]",
      "text/plain": [
       "<Figure size 288x144 with 1 Axes>"
      ]
     },
     "metadata": {
      "needs_background": "light"
     },
     "output_type": "display_data"
    },
    {
     "data": {
      "text/plain": [
       "<Figure size 288x144 with 0 Axes>"
      ]
     },
     "metadata": {},
     "output_type": "display_data"
    }
   ],
   "source": [
    "_, grad_colors = display_colors()\n",
    "_, bar_colors = select_color_idx(4)\n",
    "_, line_colors = select_color_idx(4)"
   ]
  },
  {
   "cell_type": "code",
   "execution_count": 3,
   "metadata": {},
   "outputs": [],
   "source": [
    "plt.rcParams.update({'font.size': 15})\n",
    "import matplotlib as mpl\n",
    "mpl.rcParams['hatch.linewidth'] = 0.5"
   ]
  },
  {
   "cell_type": "code",
   "execution_count": 4,
   "metadata": {},
   "outputs": [],
   "source": [
    "datadir = \"../output/\""
   ]
  },
  {
   "cell_type": "markdown",
   "metadata": {},
   "source": [
    "## Experiment 1: limit = 16k"
   ]
  },
  {
   "cell_type": "code",
   "execution_count": 5,
   "metadata": {},
   "outputs": [],
   "source": [
    "exp = \"exp_ycsbe_10g_fanout250_analysis\""
   ]
  },
  {
   "cell_type": "code",
   "execution_count": 6,
   "metadata": {},
   "outputs": [],
   "source": [
    "data = [json.loads(line) for line in open(datadir + exp + \".txt\")]\n",
    "df = pd.DataFrame().from_records(data)"
   ]
  },
  {
   "cell_type": "code",
   "execution_count": 7,
   "metadata": {},
   "outputs": [
    {
     "data": {
      "text/plain": [
       "Index(['abort_cnt_', 'accesses_', 'avg_commit_queue_sz_',\n",
       "       'avg_log_flush_interval_ (us)', 'avg_log_group_sz_',\n",
       "       'avg_log_latency_ (us)', 'avg_per_worker_runtime_sec',\n",
       "       'avg_sum_commit_latency (us)', 'avg_sum_log_flush_latency (us)',\n",
       "       'bufferd_idx_pgs_', 'cc_time_ms', 'commit_cnt_',\n",
       "       'commit_latency_perc0_us', 'commit_latency_perc50_us',\n",
       "       'commit_latency_perc99_us', 'commit_queue_sz_', 'g_buf_entry_sz',\n",
       "       'g_buf_type', 'g_check_loaded', 'g_commit_group_sz', 'g_commit_pool_sz',\n",
       "       'g_commit_queue_limit', 'g_cpu_freq', 'g_early_lock_release',\n",
       "       'g_enable_group_commit', 'g_enable_logging',\n",
       "       'g_enable_phantom_protection', 'g_force_write', 'g_idx_btree_fanout',\n",
       "       'g_idx_btree_split_ratio', 'g_index_type', 'g_load_range',\n",
       "       'g_load_to_remote_only', 'g_log_freq_us', 'g_node_id',\n",
       "       'g_num_restore_thds', 'g_num_worker_threads', 'g_pagebuf_num_slots',\n",
       "       'g_partition_sz', 'g_remote_req_retries', 'g_restore_from_remote',\n",
       "       'g_save_output', 'g_total_buf_sz', 'g_warmup_finished', 'hit_rate_',\n",
       "       'idx_accesses_', 'idx_misses_', 'idx_time_ms', 'insert_commit_cnt_',\n",
       "       'insert_txn_latency_ms', 'insert_txn_perc_', 'loading_endkey',\n",
       "       'loading_startkey', 'log_flush_interval_ms',\n",
       "       'log_flush_latency_perc0_us', 'log_flush_latency_perc50_us',\n",
       "       'log_flush_latency_perc99_us', 'log_group_sz_', 'log_latency_ms',\n",
       "       'misses_', 'num_commit_queue_samples_', 'num_flushes_', 'num_logs_',\n",
       "       'num_req_per_query_', 'num_rows_', 'num_workers_', 'read_perc_',\n",
       "       'remote_io_time_ms', 'remote_rd_time_ms', 'remote_rds_',\n",
       "       'remote_rw_time_ms', 'remote_rws_', 'remote_scan_sz_perc0',\n",
       "       'remote_scan_sz_perc100', 'remote_scan_sz_perc25',\n",
       "       'remote_scan_sz_perc50', 'remote_scan_sz_perc75', 'remote_scan_time_ms',\n",
       "       'remote_scans_', 'remote_wr_time_ms', 'remote_wrs_', 'runtime_',\n",
       "       'rw_commit_cnt_', 'rw_txn_latency_ms', 'rw_txn_perc_',\n",
       "       'scan_commit_cnt_', 'scan_txn_latency_ms', 'thd_runtime_ms',\n",
       "       'throughput_txn_per_sec', 'txn_scans_perc0', 'txn_scans_perc100',\n",
       "       'txn_scans_perc25', 'txn_scans_perc50', 'txn_scans_perc75',\n",
       "       'warmup_time_', 'zipf_theta_'],\n",
       "      dtype='object')"
      ]
     },
     "execution_count": 7,
     "metadata": {},
     "output_type": "execute_result"
    }
   ],
   "source": [
    "df.columns"
   ]
  },
  {
   "cell_type": "code",
   "execution_count": 8,
   "metadata": {},
   "outputs": [
    {
     "data": {
      "text/html": [
       "<div>\n",
       "<style scoped>\n",
       "    .dataframe tbody tr th:only-of-type {\n",
       "        vertical-align: middle;\n",
       "    }\n",
       "\n",
       "    .dataframe tbody tr th {\n",
       "        vertical-align: top;\n",
       "    }\n",
       "\n",
       "    .dataframe thead th {\n",
       "        text-align: right;\n",
       "    }\n",
       "</style>\n",
       "<table border=\"1\" class=\"dataframe\">\n",
       "  <thead>\n",
       "    <tr style=\"text-align: right;\">\n",
       "      <th></th>\n",
       "      <th>throughput_txn_per_sec</th>\n",
       "      <th>abort_cnt_</th>\n",
       "      <th>hit_rate_</th>\n",
       "      <th>misses_</th>\n",
       "      <th>avg_log_group_sz_</th>\n",
       "      <th>avg_sum_log_flush_latency (us)</th>\n",
       "      <th>avg_log_latency_ (us)</th>\n",
       "      <th>avg_log_flush_interval_ (us)</th>\n",
       "      <th>num_flushes_</th>\n",
       "      <th>remote_rds_</th>\n",
       "      <th>commit_cnt_</th>\n",
       "      <th>remote_rd_time_ms</th>\n",
       "      <th>remote_scan_time_ms</th>\n",
       "      <th>accesses_</th>\n",
       "    </tr>\n",
       "    <tr>\n",
       "      <th>g_total_buf_sz</th>\n",
       "      <th></th>\n",
       "      <th></th>\n",
       "      <th></th>\n",
       "      <th></th>\n",
       "      <th></th>\n",
       "      <th></th>\n",
       "      <th></th>\n",
       "      <th></th>\n",
       "      <th></th>\n",
       "      <th></th>\n",
       "      <th></th>\n",
       "      <th></th>\n",
       "      <th></th>\n",
       "      <th></th>\n",
       "    </tr>\n",
       "  </thead>\n",
       "  <tbody>\n",
       "    <tr>\n",
       "      <th>3000000000</th>\n",
       "      <td>552.262</td>\n",
       "      <td>0</td>\n",
       "      <td>0.840204</td>\n",
       "      <td>519258</td>\n",
       "      <td>12.7674</td>\n",
       "      <td>10756.8</td>\n",
       "      <td>2958.12</td>\n",
       "      <td>11550.5</td>\n",
       "      <td>5198</td>\n",
       "      <td>539</td>\n",
       "      <td>66365</td>\n",
       "      <td>2075.29</td>\n",
       "      <td>957854</td>\n",
       "      <td>3249501</td>\n",
       "    </tr>\n",
       "    <tr>\n",
       "      <th>6000000000</th>\n",
       "      <td>1109.580</td>\n",
       "      <td>416</td>\n",
       "      <td>0.923103</td>\n",
       "      <td>502296</td>\n",
       "      <td>30.7211</td>\n",
       "      <td>13197.9</td>\n",
       "      <td>1983.76</td>\n",
       "      <td>13833.4</td>\n",
       "      <td>4339</td>\n",
       "      <td>496</td>\n",
       "      <td>133288</td>\n",
       "      <td>2494.97</td>\n",
       "      <td>955841</td>\n",
       "      <td>6532083</td>\n",
       "    </tr>\n",
       "    <tr>\n",
       "      <th>9000000000</th>\n",
       "      <td>3263.680</td>\n",
       "      <td>3115</td>\n",
       "      <td>0.975212</td>\n",
       "      <td>475526</td>\n",
       "      <td>679.1490</td>\n",
       "      <td>103403.0</td>\n",
       "      <td>2408.43</td>\n",
       "      <td>103997.0</td>\n",
       "      <td>577</td>\n",
       "      <td>505</td>\n",
       "      <td>391869</td>\n",
       "      <td>2022.49</td>\n",
       "      <td>503161</td>\n",
       "      <td>19183845</td>\n",
       "    </tr>\n",
       "    <tr>\n",
       "      <th>15000000000</th>\n",
       "      <td>3370.560</td>\n",
       "      <td>41440</td>\n",
       "      <td>1.000000</td>\n",
       "      <td>0</td>\n",
       "      <td>829.8220</td>\n",
       "      <td>122259.0</td>\n",
       "      <td>2370.42</td>\n",
       "      <td>123965.0</td>\n",
       "      <td>488</td>\n",
       "      <td>0</td>\n",
       "      <td>404953</td>\n",
       "      <td>0.00</td>\n",
       "      <td>0</td>\n",
       "      <td>19873451</td>\n",
       "    </tr>\n",
       "  </tbody>\n",
       "</table>\n",
       "</div>"
      ],
      "text/plain": [
       "                throughput_txn_per_sec  abort_cnt_  hit_rate_  misses_  \\\n",
       "g_total_buf_sz                                                           \n",
       "3000000000                     552.262           0   0.840204   519258   \n",
       "6000000000                    1109.580         416   0.923103   502296   \n",
       "9000000000                    3263.680        3115   0.975212   475526   \n",
       "15000000000                   3370.560       41440   1.000000        0   \n",
       "\n",
       "                avg_log_group_sz_  avg_sum_log_flush_latency (us)  \\\n",
       "g_total_buf_sz                                                      \n",
       "3000000000                12.7674                         10756.8   \n",
       "6000000000                30.7211                         13197.9   \n",
       "9000000000               679.1490                        103403.0   \n",
       "15000000000              829.8220                        122259.0   \n",
       "\n",
       "                avg_log_latency_ (us)  avg_log_flush_interval_ (us)  \\\n",
       "g_total_buf_sz                                                        \n",
       "3000000000                    2958.12                       11550.5   \n",
       "6000000000                    1983.76                       13833.4   \n",
       "9000000000                    2408.43                      103997.0   \n",
       "15000000000                   2370.42                      123965.0   \n",
       "\n",
       "                num_flushes_  remote_rds_  commit_cnt_  remote_rd_time_ms  \\\n",
       "g_total_buf_sz                                                              \n",
       "3000000000              5198          539        66365            2075.29   \n",
       "6000000000              4339          496       133288            2494.97   \n",
       "9000000000               577          505       391869            2022.49   \n",
       "15000000000              488            0       404953               0.00   \n",
       "\n",
       "                remote_scan_time_ms  accesses_  \n",
       "g_total_buf_sz                                  \n",
       "3000000000                   957854    3249501  \n",
       "6000000000                   955841    6532083  \n",
       "9000000000                   503161   19183845  \n",
       "15000000000                       0   19873451  "
      ]
     },
     "execution_count": 8,
     "metadata": {},
     "output_type": "execute_result"
    }
   ],
   "source": [
    "# create pivot table\n",
    "df0 = apply_mask(df, [\n",
    "    [\"g_buf_type\", [\"eq\", \"OBJBUF\"]],\n",
    "    [\"g_enable_phantom_protection\", [\"eq\", \"True\"]],\n",
    "    [\"read_perc_\", 0]\n",
    "])\n",
    "pivot0_ids = df0.groupby([\"g_total_buf_sz\"])[\"throughput_txn_per_sec\"].idxmax().values\n",
    "pivot0 = df0.loc[pivot0_ids].groupby(\"g_total_buf_sz\")[\n",
    "    \"throughput_txn_per_sec\",\"abort_cnt_\",\"hit_rate_\",\"misses_\", \n",
    "    \"avg_log_group_sz_\",\"avg_sum_log_flush_latency (us)\",\n",
    "    \"avg_log_latency_ (us)\", \"avg_log_flush_interval_ (us)\", \n",
    "    \"num_flushes_\", \"remote_rds_\", \"commit_cnt_\", \"remote_rd_time_ms\",\"remote_scan_time_ms\",\n",
    "    \"accesses_\"].median()\n",
    "pivot0"
   ]
  },
  {
   "cell_type": "code",
   "execution_count": 9,
   "metadata": {},
   "outputs": [
    {
     "data": {
      "text/plain": [
       "g_total_buf_sz\n",
       "3000000000     3.850260\n",
       "6000000000     5.030181\n",
       "9000000000     4.004931\n",
       "15000000000         NaN\n",
       "dtype: float64"
      ]
     },
     "execution_count": 9,
     "metadata": {},
     "output_type": "execute_result"
    }
   ],
   "source": [
    "pivot0[\"remote_rd_time_ms\"] / pivot0[\"remote_rds_\"]"
   ]
  },
  {
   "cell_type": "code",
   "execution_count": 10,
   "metadata": {},
   "outputs": [
    {
     "data": {
      "text/html": [
       "<div>\n",
       "<style scoped>\n",
       "    .dataframe tbody tr th:only-of-type {\n",
       "        vertical-align: middle;\n",
       "    }\n",
       "\n",
       "    .dataframe tbody tr th {\n",
       "        vertical-align: top;\n",
       "    }\n",
       "\n",
       "    .dataframe thead th {\n",
       "        text-align: right;\n",
       "    }\n",
       "</style>\n",
       "<table border=\"1\" class=\"dataframe\">\n",
       "  <thead>\n",
       "    <tr style=\"text-align: right;\">\n",
       "      <th></th>\n",
       "      <th>g_total_buf_sz</th>\n",
       "      <th>cc_time_ms</th>\n",
       "      <th>idx_time_ms</th>\n",
       "      <th>commit_latency_perc0_us</th>\n",
       "      <th>commit_latency_perc50_us</th>\n",
       "      <th>commit_latency_perc99_us</th>\n",
       "    </tr>\n",
       "  </thead>\n",
       "  <tbody>\n",
       "    <tr>\n",
       "      <th>0</th>\n",
       "      <td>15000000000</td>\n",
       "      <td>389.5080</td>\n",
       "      <td>2366.08</td>\n",
       "      <td>44967.60</td>\n",
       "      <td>219589.0</td>\n",
       "      <td>1008980.0</td>\n",
       "    </tr>\n",
       "    <tr>\n",
       "      <th>1</th>\n",
       "      <td>9000000000</td>\n",
       "      <td>316.6870</td>\n",
       "      <td>507116.00</td>\n",
       "      <td>14169.70</td>\n",
       "      <td>167260.0</td>\n",
       "      <td>1235060.0</td>\n",
       "    </tr>\n",
       "    <tr>\n",
       "      <th>2</th>\n",
       "      <td>6000000000</td>\n",
       "      <td>107.7270</td>\n",
       "      <td>959254.00</td>\n",
       "      <td>7472.69</td>\n",
       "      <td>22033.9</td>\n",
       "      <td>209434.0</td>\n",
       "    </tr>\n",
       "    <tr>\n",
       "      <th>3</th>\n",
       "      <td>3000000000</td>\n",
       "      <td>55.9639</td>\n",
       "      <td>960605.00</td>\n",
       "      <td>7495.01</td>\n",
       "      <td>18195.6</td>\n",
       "      <td>199054.0</td>\n",
       "    </tr>\n",
       "  </tbody>\n",
       "</table>\n",
       "</div>"
      ],
      "text/plain": [
       "   g_total_buf_sz  cc_time_ms  idx_time_ms  commit_latency_perc0_us  \\\n",
       "0     15000000000    389.5080      2366.08                 44967.60   \n",
       "1      9000000000    316.6870    507116.00                 14169.70   \n",
       "2      6000000000    107.7270    959254.00                  7472.69   \n",
       "3      3000000000     55.9639    960605.00                  7495.01   \n",
       "\n",
       "   commit_latency_perc50_us  commit_latency_perc99_us  \n",
       "0                  219589.0                 1008980.0  \n",
       "1                  167260.0                 1235060.0  \n",
       "2                   22033.9                  209434.0  \n",
       "3                   18195.6                  199054.0  "
      ]
     },
     "execution_count": 10,
     "metadata": {},
     "output_type": "execute_result"
    }
   ],
   "source": [
    "df0.loc[:, [\"g_total_buf_sz\", \"cc_time_ms\", \"idx_time_ms\", \n",
    "            \"commit_latency_perc0_us\", \"commit_latency_perc50_us\", \"commit_latency_perc99_us\"]]"
   ]
  },
  {
   "cell_type": "code",
   "execution_count": 11,
   "metadata": {},
   "outputs": [
    {
     "data": {
      "text/html": [
       "<div>\n",
       "<style scoped>\n",
       "    .dataframe tbody tr th:only-of-type {\n",
       "        vertical-align: middle;\n",
       "    }\n",
       "\n",
       "    .dataframe tbody tr th {\n",
       "        vertical-align: top;\n",
       "    }\n",
       "\n",
       "    .dataframe thead th {\n",
       "        text-align: right;\n",
       "    }\n",
       "</style>\n",
       "<table border=\"1\" class=\"dataframe\">\n",
       "  <thead>\n",
       "    <tr style=\"text-align: right;\">\n",
       "      <th></th>\n",
       "      <th>throughput_txn_per_sec</th>\n",
       "      <th>abort_cnt_</th>\n",
       "      <th>hit_rate_</th>\n",
       "      <th>misses_</th>\n",
       "      <th>avg_log_group_sz_</th>\n",
       "      <th>avg_sum_log_flush_latency (us)</th>\n",
       "      <th>avg_log_latency_ (us)</th>\n",
       "      <th>avg_log_flush_interval_ (us)</th>\n",
       "      <th>num_flushes_</th>\n",
       "      <th>g_buf_type</th>\n",
       "      <th>remote_rds_</th>\n",
       "      <th>commit_cnt_</th>\n",
       "      <th>remote_rd_time_ms</th>\n",
       "      <th>idx_misses_</th>\n",
       "      <th>idx_accesses_</th>\n",
       "    </tr>\n",
       "    <tr>\n",
       "      <th>g_total_buf_sz</th>\n",
       "      <th></th>\n",
       "      <th></th>\n",
       "      <th></th>\n",
       "      <th></th>\n",
       "      <th></th>\n",
       "      <th></th>\n",
       "      <th></th>\n",
       "      <th></th>\n",
       "      <th></th>\n",
       "      <th></th>\n",
       "      <th></th>\n",
       "      <th></th>\n",
       "      <th></th>\n",
       "      <th></th>\n",
       "      <th></th>\n",
       "    </tr>\n",
       "  </thead>\n",
       "  <tbody>\n",
       "    <tr>\n",
       "      <th>3000000000</th>\n",
       "      <td>643.901</td>\n",
       "      <td>0</td>\n",
       "      <td>0.955930</td>\n",
       "      <td>182603</td>\n",
       "      <td>15.1561</td>\n",
       "      <td>11683.4</td>\n",
       "      <td>5640.04</td>\n",
       "      <td>11721.3</td>\n",
       "      <td>5120</td>\n",
       "      <td>PGBUF</td>\n",
       "      <td>182603</td>\n",
       "      <td>77589</td>\n",
       "      <td>959812.00000</td>\n",
       "      <td>3714</td>\n",
       "      <td>340397</td>\n",
       "    </tr>\n",
       "    <tr>\n",
       "      <th>6000000000</th>\n",
       "      <td>980.028</td>\n",
       "      <td>13036</td>\n",
       "      <td>0.973024</td>\n",
       "      <td>177432</td>\n",
       "      <td>27.3241</td>\n",
       "      <td>13403.6</td>\n",
       "      <td>4069.24</td>\n",
       "      <td>13446.2</td>\n",
       "      <td>4461</td>\n",
       "      <td>PGBUF</td>\n",
       "      <td>177432</td>\n",
       "      <td>121893</td>\n",
       "      <td>955752.00000</td>\n",
       "      <td>7388</td>\n",
       "      <td>587193</td>\n",
       "    </tr>\n",
       "    <tr>\n",
       "      <th>9000000000</th>\n",
       "      <td>1706.430</td>\n",
       "      <td>24430</td>\n",
       "      <td>0.984602</td>\n",
       "      <td>174357</td>\n",
       "      <td>67.1564</td>\n",
       "      <td>19117.1</td>\n",
       "      <td>3091.71</td>\n",
       "      <td>19197.0</td>\n",
       "      <td>3126</td>\n",
       "      <td>PGBUF</td>\n",
       "      <td>174357</td>\n",
       "      <td>209870</td>\n",
       "      <td>961562.00000</td>\n",
       "      <td>9066</td>\n",
       "      <td>1018345</td>\n",
       "    </tr>\n",
       "    <tr>\n",
       "      <th>15000000000</th>\n",
       "      <td>3319.140</td>\n",
       "      <td>34887</td>\n",
       "      <td>1.000000</td>\n",
       "      <td>1</td>\n",
       "      <td>825.3640</td>\n",
       "      <td>123543.0</td>\n",
       "      <td>2408.18</td>\n",
       "      <td>124338.0</td>\n",
       "      <td>483</td>\n",
       "      <td>PGBUF</td>\n",
       "      <td>1</td>\n",
       "      <td>398651</td>\n",
       "      <td>5.85218</td>\n",
       "      <td>1</td>\n",
       "      <td>1887913</td>\n",
       "    </tr>\n",
       "  </tbody>\n",
       "</table>\n",
       "</div>"
      ],
      "text/plain": [
       "                throughput_txn_per_sec  abort_cnt_  hit_rate_  misses_  \\\n",
       "g_total_buf_sz                                                           \n",
       "3000000000                     643.901           0   0.955930   182603   \n",
       "6000000000                     980.028       13036   0.973024   177432   \n",
       "9000000000                    1706.430       24430   0.984602   174357   \n",
       "15000000000                   3319.140       34887   1.000000        1   \n",
       "\n",
       "                avg_log_group_sz_  avg_sum_log_flush_latency (us)  \\\n",
       "g_total_buf_sz                                                      \n",
       "3000000000                15.1561                         11683.4   \n",
       "6000000000                27.3241                         13403.6   \n",
       "9000000000                67.1564                         19117.1   \n",
       "15000000000              825.3640                        123543.0   \n",
       "\n",
       "                avg_log_latency_ (us)  avg_log_flush_interval_ (us)  \\\n",
       "g_total_buf_sz                                                        \n",
       "3000000000                    5640.04                       11721.3   \n",
       "6000000000                    4069.24                       13446.2   \n",
       "9000000000                    3091.71                       19197.0   \n",
       "15000000000                   2408.18                      124338.0   \n",
       "\n",
       "                num_flushes_ g_buf_type  remote_rds_  commit_cnt_  \\\n",
       "g_total_buf_sz                                                      \n",
       "3000000000              5120      PGBUF       182603        77589   \n",
       "6000000000              4461      PGBUF       177432       121893   \n",
       "9000000000              3126      PGBUF       174357       209870   \n",
       "15000000000              483      PGBUF            1       398651   \n",
       "\n",
       "                remote_rd_time_ms  idx_misses_  idx_accesses_  \n",
       "g_total_buf_sz                                                 \n",
       "3000000000           959812.00000         3714         340397  \n",
       "6000000000           955752.00000         7388         587193  \n",
       "9000000000           961562.00000         9066        1018345  \n",
       "15000000000               5.85218            1        1887913  "
      ]
     },
     "execution_count": 11,
     "metadata": {},
     "output_type": "execute_result"
    }
   ],
   "source": [
    "# create pivot table\n",
    "df2 = apply_mask(df, [\n",
    "    [\"g_buf_type\", [\"eq\", \"PGBUF\"]],\n",
    "    [\"g_enable_phantom_protection\", [\"eq\", \"True\"]],\n",
    "    [\"read_perc_\", 0]\n",
    "])\n",
    "pivot2 = df2.groupby([\n",
    "    \"g_total_buf_sz\",\n",
    "])[\n",
    "    \"throughput_txn_per_sec\",\"abort_cnt_\",\"hit_rate_\",\"misses_\", \n",
    "    \"avg_log_group_sz_\",\"avg_sum_log_flush_latency (us)\",\n",
    "    \"avg_log_latency_ (us)\", \"avg_log_flush_interval_ (us)\", \n",
    "    \"num_flushes_\", \"g_buf_type\", \"remote_rds_\", \"commit_cnt_\", \"remote_rd_time_ms\",\n",
    "    \"idx_misses_\", \"idx_accesses_\"\n",
    "    ].max()\n",
    "pivot2"
   ]
  },
  {
   "cell_type": "code",
   "execution_count": 12,
   "metadata": {},
   "outputs": [
    {
     "data": {
      "text/html": [
       "<div>\n",
       "<style scoped>\n",
       "    .dataframe tbody tr th:only-of-type {\n",
       "        vertical-align: middle;\n",
       "    }\n",
       "\n",
       "    .dataframe tbody tr th {\n",
       "        vertical-align: top;\n",
       "    }\n",
       "\n",
       "    .dataframe thead th {\n",
       "        text-align: right;\n",
       "    }\n",
       "</style>\n",
       "<table border=\"1\" class=\"dataframe\">\n",
       "  <thead>\n",
       "    <tr style=\"text-align: right;\">\n",
       "      <th></th>\n",
       "      <th>throughput_txn_per_sec</th>\n",
       "      <th>abort_cnt_</th>\n",
       "      <th>hit_rate_</th>\n",
       "      <th>misses_</th>\n",
       "      <th>avg_log_group_sz_</th>\n",
       "      <th>avg_sum_log_flush_latency (us)</th>\n",
       "      <th>avg_log_latency_ (us)</th>\n",
       "      <th>avg_log_flush_interval_ (us)</th>\n",
       "      <th>commit_cnt_</th>\n",
       "      <th>num_flushes_</th>\n",
       "      <th>g_buf_type</th>\n",
       "      <th>remote_rds_</th>\n",
       "      <th>remote_rd_time_ms</th>\n",
       "      <th>remote_scan_time_ms</th>\n",
       "    </tr>\n",
       "    <tr>\n",
       "      <th>g_total_buf_sz</th>\n",
       "      <th></th>\n",
       "      <th></th>\n",
       "      <th></th>\n",
       "      <th></th>\n",
       "      <th></th>\n",
       "      <th></th>\n",
       "      <th></th>\n",
       "      <th></th>\n",
       "      <th></th>\n",
       "      <th></th>\n",
       "      <th></th>\n",
       "      <th></th>\n",
       "      <th></th>\n",
       "      <th></th>\n",
       "    </tr>\n",
       "  </thead>\n",
       "  <tbody>\n",
       "    <tr>\n",
       "      <th>3000000000</th>\n",
       "      <td>86.9045</td>\n",
       "      <td>4</td>\n",
       "      <td>0.0</td>\n",
       "      <td>604326</td>\n",
       "      <td>1.66864</td>\n",
       "      <td>8397.35</td>\n",
       "      <td>12638.0</td>\n",
       "      <td>9584.97</td>\n",
       "      <td>10447</td>\n",
       "      <td>6262</td>\n",
       "      <td>NOBUF</td>\n",
       "      <td>546</td>\n",
       "      <td>2216.5</td>\n",
       "      <td>955021</td>\n",
       "    </tr>\n",
       "  </tbody>\n",
       "</table>\n",
       "</div>"
      ],
      "text/plain": [
       "                throughput_txn_per_sec  abort_cnt_  hit_rate_  misses_  \\\n",
       "g_total_buf_sz                                                           \n",
       "3000000000                     86.9045           4        0.0   604326   \n",
       "\n",
       "                avg_log_group_sz_  avg_sum_log_flush_latency (us)  \\\n",
       "g_total_buf_sz                                                      \n",
       "3000000000                1.66864                         8397.35   \n",
       "\n",
       "                avg_log_latency_ (us)  avg_log_flush_interval_ (us)  \\\n",
       "g_total_buf_sz                                                        \n",
       "3000000000                    12638.0                       9584.97   \n",
       "\n",
       "                commit_cnt_  num_flushes_ g_buf_type  remote_rds_  \\\n",
       "g_total_buf_sz                                                      \n",
       "3000000000            10447          6262      NOBUF          546   \n",
       "\n",
       "                remote_rd_time_ms  remote_scan_time_ms  \n",
       "g_total_buf_sz                                          \n",
       "3000000000                 2216.5               955021  "
      ]
     },
     "execution_count": 12,
     "metadata": {},
     "output_type": "execute_result"
    }
   ],
   "source": [
    "# create pivot table\n",
    "df3 = apply_mask(df, [\n",
    "    [\"g_buf_type\", [\"eq\", \"NOBUF\"]],\n",
    "    [\"read_perc_\", 0]\n",
    "])\n",
    "pivot3 = df3.groupby([\n",
    "    \"g_total_buf_sz\", \n",
    "])[\n",
    "    \"throughput_txn_per_sec\",\"abort_cnt_\",\"hit_rate_\",\"misses_\", \n",
    "    \"avg_log_group_sz_\",\"avg_sum_log_flush_latency (us)\",\n",
    "    \"avg_log_latency_ (us)\", \"avg_log_flush_interval_ (us)\", \"commit_cnt_\",\n",
    "    \"num_flushes_\", \"g_buf_type\", \"remote_rds_\", \"remote_rd_time_ms\", \"remote_scan_time_ms\"\n",
    "    ].max()\n",
    "pivot3"
   ]
  },
  {
   "cell_type": "code",
   "execution_count": 13,
   "metadata": {},
   "outputs": [
    {
     "name": "stdout",
     "output_type": "stream",
     "text": [
      "[0.3, 0.6, 0.9, 1.3]\n"
     ]
    },
    {
     "data": {
      "image/png": "[encoded data removed]",
      "text/plain": [
       "<Figure size 396x216 with 1 Axes>"
      ]
     },
     "metadata": {
      "needs_background": "light"
     },
     "output_type": "display_data"
    }
   ],
   "source": [
    "workload_ratio = [round(sz / 10240000000.0 * 10) / 10.0 for sz in pivot0.index]\n",
    "workload_ratio[-1] = 1.3\n",
    "print(workload_ratio)\n",
    "fig, ax = plt.subplots(1, 1)\n",
    "ax.plot(workload_ratio, \n",
    "        pivot0[\"throughput_txn_per_sec\"],\n",
    "        color=line_colors[\"BLUE\"],\n",
    "        marker=\"^\", label=\"Bonsai\")\n",
    "ax.plot(workload_ratio, \n",
    "        pivot2[\"throughput_txn_per_sec\"],\n",
    "        color=line_colors[\"GREEN\"],\n",
    "        marker=\".\", label=\"Page-Index\")\n",
    "ax.plot(workload_ratio, \n",
    "        [pivot3[\"throughput_txn_per_sec\"].values] * pivot0.shape[0],\n",
    "        color=line_colors[\"ORANGE\"],\n",
    "        marker=\".\", label=\"Remote-Index\")\n",
    "# ax.set_title(plot_names[i])\n",
    "plt.legend(frameon=False)\n",
    "ax.set_ylim(0, 4000)\n",
    "ax.set_xlim(xmin=0)\n",
    "ax.set_xticks(workload_ratio)\n",
    "ax.set_xlabel(\"Buffer Size / Data Size\")\n",
    "ax.set_ylabel(\"Throughput (txn/sec)\")\n",
    "fig.set_size_inches(5.5, 3)\n",
    "plt.grid(axis = 'y', linestyle = '--', linewidth = 0.25)\n",
    "path = \"/Users/scarlet/Desktop/Bonsai/figures/\"\n",
    "fig.savefig(path + \"ycsbe_10g_fanout250_limit16k.pdf\", bbox_inches=\"tight\") "
   ]
  },
  {
   "cell_type": "code",
   "execution_count": 14,
   "metadata": {},
   "outputs": [
    {
     "data": {
      "image/png": "[encoded data removed]",
      "text/plain": [
       "<Figure size 432x180 with 1 Axes>"
      ]
     },
     "metadata": {
      "needs_background": "light"
     },
     "output_type": "display_data"
    }
   ],
   "source": [
    "fig, ax = plt.subplots(1, 1)\n",
    "xvals = np.arange(len(workload_ratio))\n",
    "width = (1 - 0.2) / 3\n",
    "ax.bar(xvals, (pivot0[\"remote_rd_time_ms\"] + pivot0[\"remote_scan_time_ms\"]) / pivot0[\"commit_cnt_\"],\n",
    "       width=width, edgecolor=\"black\", hatch=\"\\\\\\\\\",\n",
    "       facecolor=bar_colors[\"BLUE\"], label=\"Bonsai\")\n",
    "ax.bar(xvals + width, pivot2[\"remote_rd_time_ms\"] / pivot2[\"commit_cnt_\"],\n",
    "      width=width, edgecolor=\"black\", hatch=\"//\",\n",
    "       facecolor=bar_colors[\"GREEN\"], label=\"Page-Index\")\n",
    "val3 = (pivot3[\"remote_rd_time_ms\"] + pivot3[\"remote_scan_time_ms\"]) / pivot3[\"commit_cnt_\"]\n",
    "ax.bar(xvals + width*2, val3,\n",
    "      width=width, edgecolor=\"black\", \n",
    "       facecolor=bar_colors[\"ORANGE\"], label=\"Remote-Index\")\n",
    "for x in xvals:\n",
    "    ax.text(x + 0.2, 26, \"%.2f\" % val3, color=\"black\", size=12)\n",
    "ax.set_ylim(0, 25)\n",
    "plt.xticks(xvals + width, workload_ratio)\n",
    "ax.set_xlabel(\"Buffer Size / Data Size\")\n",
    "ax.set_ylabel(\"I/O Time per Txn (ms)\")\n",
    "fig.set_size_inches(6, 2.5)\n",
    "plt.grid(axis = 'y', linestyle = '--', linewidth = 0.25)\n",
    "plt.legend()\n",
    "path = \"/Users/scarlet/Desktop/Bonsai/figures/\"\n",
    "fig.savefig(path + \"ycsbe_10g_fanout250_limit16k_analysis.pdf\", bbox_inches=\"tight\") "
   ]
  },
  {
   "cell_type": "code",
   "execution_count": null,
   "metadata": {},
   "outputs": [],
   "source": []
  }
 ],
 "metadata": {
  "kernelspec": {
   "display_name": "Python 3",
   "language": "python",
   "name": "python3"
  },
  "language_info": {
   "codemirror_mode": {
    "name": "ipython",
    "version": 3
   },
   "file_extension": ".py",
   "mimetype": "text/x-python",
   "name": "python",
   "nbconvert_exporter": "python",
   "pygments_lexer": "ipython3",
   "version": "3.7.3"
  }
 },
 "nbformat": 4,
 "nbformat_minor": 2
}
